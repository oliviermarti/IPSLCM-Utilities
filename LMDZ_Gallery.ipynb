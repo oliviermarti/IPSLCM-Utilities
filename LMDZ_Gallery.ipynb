{
 "cells": [
  {
   "attachments": {},
   "cell_type": "markdown",
   "id": "e21494d9-4bb6-446d-af1b-47c330bff6e5",
   "metadata": {},
   "source": [
    "<img src=\"https://www.lsce.ipsl.fr/Css/img/banniere_LSCE_75.png\" width=\"600px\"> <img src=\"https://www.ipsl.fr/wp-content/themes/ipsltheme/themes/logo/logo_ipsl_2.png\" width=\"60px\">"
   ]
  },
  {
   "cell_type": "markdown",
   "id": "6b1fbbf3-700c-45b5-aedc-319e37f669b1",
   "metadata": {},
   "source": [
    "# Plotting LMDZ outputs with matplotlib and cartopy"
   ]
  },
  {
   "cell_type": "markdown",
   "id": "258fcf6a-f105-402f-8213-f2006c9c6c02",
   "metadata": {},
   "source": [
    "## License\n",
    "This software is governed by the CeCILL license license under French law and abiding by the rules of distribution of free software. You can use, modify and/ or redistribute the software under the terms of the CeCILL license as circulated by CEA, CNRS and INRIA.\n",
    "\n",
    "Warning, to install, configure, run, use any of Olivier Marti's software or to read the associated documentation you'll need at least one (1) brain in a reasonably working order. Lack of this implement will void any warranties (either express or implied). O. Marti assumes no responsability for errors, omissions, data loss, or any other consequences caused directly or indirectly by the usage of his software by incorrectly or partially configured personal."
   ]
  },
  {
   "cell_type": "markdown",
   "id": "824686eb-cac8-4f74-a317-7ac85bb5bc06",
   "metadata": {},
   "source": [
    "## Contact\n",
    "mailto:olivier.marti@lsce.ipsl.fr"
   ]
  },
  {
   "cell_type": "markdown",
   "id": "7bddfb93-1d7b-43c0-b68a-3c966fb47fa2",
   "metadata": {},
   "source": [
    "## SVN Information"
   ]
  },
  {
   "cell_type": "code",
   "execution_count": 1,
   "id": "304964a3-bcc2-45ab-a91b-d0282a062036",
   "metadata": {
    "jupyter": {
     "source_hidden": true
    }
   },
   "outputs": [],
   "source": [
    "SVN = { 'Author' : \"$Author: $\", 'Date' : \"$Date: $\", 'Revision': \"$Revision: $\",\n",
    "        'Id' : \"$Id:  $\", 'HeadURL' : \"$HeadUrl: $\" }"
   ]
  },
  {
   "cell_type": "markdown",
   "id": "7c8cd60e-a24c-41af-a2c1-6ebd062a6cf7",
   "metadata": {},
   "source": [
    "# Initialize"
   ]
  },
  {
   "cell_type": "markdown",
   "id": "261ccbf8-32ed-472a-b866-02153dd57cbd",
   "metadata": {},
   "source": [
    "## Classic modules"
   ]
  },
  {
   "cell_type": "code",
   "execution_count": 2,
   "id": "5dadc7e3-adec-4554-aadb-8b85f746bc4a",
   "metadata": {
    "jupyter": {
     "source_hidden": true
    }
   },
   "outputs": [],
   "source": [
    "import numpy as np, xarray as xr\n",
    "import matplotlib.pyplot as plt, matplotlib as mpl\n",
    "import cartopy.mpl.ticker, cartopy.crs as ccrs, cartopy, cartopy.util as cutil\n",
    "import importlib, sys, os"
   ]
  },
  {
   "cell_type": "markdown",
   "id": "3b599544-1233-4b69-a741-9cad1e931e40",
   "metadata": {},
   "source": [
    "## Specific module to simplify access to IPSL model outputs"
   ]
  },
  {
   "cell_type": "code",
   "execution_count": 3,
   "id": "77c1487b-4bc7-4285-a41b-68a9c63e6c4d",
   "metadata": {
    "jupyter": {
     "source_hidden": true
    }
   },
   "outputs": [],
   "source": [
    "import libIGCM_sys\n",
    "rad = np.deg2rad (1.0)\n",
    "Mach = libIGCM_sys.Mach()"
   ]
  },
  {
   "cell_type": "code",
   "execution_count": 4,
   "id": "3188f8a4-be9f-4dc1-a425-e4f689136eeb",
   "metadata": {},
   "outputs": [
    {
     "name": "stdout",
     "output_type": "stream",
     "text": [
      "Machine            :  Spip\n",
      "Version python     :  3.12.4 | packaged by conda-forge | (main, Jun 17 2024, 10:13:44) [Clang 16.0.6 ]\n",
      "Version numpy      :  1.26.4\n",
      "Version xarray     :  2024.7.0\n",
      "Version Matplotlib :  3.9.2\n",
      "Version Cartopy    :  0.23.0\n"
     ]
    }
   ],
   "source": [
    "print ( 'Machine            : ', Mach                )\n",
    "print ( 'Version python     : ', sys.version         )\n",
    "print ( 'Version numpy      : ', np.__version__      )\n",
    "print ( 'Version xarray     : ', xr.__version__      )\n",
    "print ( 'Version Matplotlib : ', mpl.__version__     )\n",
    "print ( 'Version Cartopy    : ', cartopy.__version__ )"
   ]
  },
  {
   "cell_type": "markdown",
   "id": "b09bc02a-7841-4c71-a219-991ce307fc76",
   "metadata": {},
   "source": [
    "## Specific module for LMDZ\n",
    "\n",
    "Use `help(lmdz)` to get some details"
   ]
  },
  {
   "cell_type": "code",
   "execution_count": 5,
   "id": "318b2e4b-1178-4dfd-9090-cc113387fc56",
   "metadata": {
    "jupyter": {
     "source_hidden": true
    }
   },
   "outputs": [],
   "source": [
    "import lmdz\n",
    "importlib.reload (lmdz)\n",
    "Ra = lmdz.RA\n",
    "#lmdz.set_options(Debug=True, Stack=True)"
   ]
  },
  {
   "cell_type": "code",
   "execution_count": 6,
   "id": "2a4d0215-e93a-4bbd-b596-6f95c529a318",
   "metadata": {},
   "outputs": [
    {
     "data": {
      "text/plain": [
       "{'Debug': True, 'Trace': True, 'Depth': None, 'Stack': None}"
      ]
     },
     "execution_count": 6,
     "metadata": {},
     "output_type": "execute_result"
    }
   ],
   "source": [
    "lmdz.set_options ( Debug=True, Trace=True )\n",
    "lmdz.get_options ()"
   ]
  },
  {
   "cell_type": "markdown",
   "id": "b5ac0bca-524d-401b-8a62-71992878c6a0",
   "metadata": {},
   "source": [
    "# Read and prepare data"
   ]
  },
  {
   "cell_type": "code",
   "execution_count": 7,
   "id": "385efb7c-afe2-4c2e-a274-384006986ebc",
   "metadata": {
    "jupyter": {
     "source_hidden": true
    }
   },
   "outputs": [],
   "source": [
    "mm = libIGCM_sys.config ( JobName='TR6kCM6AS-Sr01', TagName='IPSLCM6', ExperimentName='Holocene',\n",
    "                         SpaceName='PROD',\n",
    "                          #Source='TGCC_thredds', TGCC_User='p86caub', TGCC_Group='gencmip6', \n",
    "                         )\n",
    "mm.Dir    = os.path.join ( mm.R_SAVE, 'ATM', 'Analyse', 'SE' )\n",
    "mm.Period = 'SE_5300_5399_1M'"
   ]
  },
  {
   "cell_type": "raw",
   "id": "f2738fac-1fbf-4c27-b95c-2c80da2ef42f",
   "metadata": {},
   "source": [
    "mm = libIGCM_sys.config ( JobName='CM65v420-LR-SKL-pi-05', TagName='IPSLCM6', ExperimentName='piControl', SpaceName='DEVT',\n",
    "                          #Source='TGCC_thredds', TGCC_User='p86caub', TGCC_Group='gencmip6', \n",
    "                          Out='Dict' )\n",
    "globals().update (mm)\n",
    "\n",
    "mm.Dir    = os.path.join ( mm.R_SAVE, 'ATM', 'Output', 'MO' )\n",
    "mm.Period = '23300101_23391231_1M'\n",
    "time_sel = { 'time_counter':slice (0, 2) }"
   ]
  },
  {
   "cell_type": "code",
   "execution_count": 8,
   "id": "19085a11-51d3-4aa8-8a1b-94bdc7181e14",
   "metadata": {
    "jupyter": {
     "source_hidden": true
    }
   },
   "outputs": [
    {
     "name": "stdout",
     "output_type": "stream",
     "text": [
      "f_h = '/Users/marti/Data/IGCM_OUT/IPSLCM6/PROD/Holocene/TR6kCM6AS-Sr01/ATM/Analyse/SE/TR6kCM6AS-Sr01_SE_5300_5399_1M_histmth.nc'\n"
     ]
    }
   ],
   "source": [
    "f_h = os.path.join ( mm.Dir, f'{mm.JobName}_{mm.Period}_histmth.nc' )\n",
    "\n",
    "print ( f'{f_h = }' )"
   ]
  },
  {
   "cell_type": "markdown",
   "id": "4e479ddf-9c12-4e1b-ad44-e8f1da21d570",
   "metadata": {},
   "source": [
    "## Open files"
   ]
  },
  {
   "cell_type": "code",
   "execution_count": 9,
   "id": "e35f8d27-a23e-4ba7-9446-49b8d7523808",
   "metadata": {},
   "outputs": [
    {
     "ename": "FileNotFoundError",
     "evalue": "[Errno 2] No such file or directory: '/Users/marti/Data/IGCM_OUT/IPSLCM6/PROD/Holocene/TR6kCM6AS-Sr01/ATM/Analyse/SE/TR6kCM6AS-Sr01_SE_5300_5399_1M_histmth.nc'",
     "output_type": "error",
     "traceback": [
      "\u001b[0;31m---------------------------------------------------------------------------\u001b[0m",
      "\u001b[0;31mKeyError\u001b[0m                                  Traceback (most recent call last)",
      "File \u001b[0;32m~/miniforge3/envs/PROD/lib/python3.12/site-packages/xarray/backends/file_manager.py:211\u001b[0m, in \u001b[0;36mCachingFileManager._acquire_with_cache_info\u001b[0;34m(self, needs_lock)\u001b[0m\n\u001b[1;32m    210\u001b[0m \u001b[38;5;28;01mtry\u001b[39;00m:\n\u001b[0;32m--> 211\u001b[0m     file \u001b[38;5;241m=\u001b[39m \u001b[38;5;28;43mself\u001b[39;49m\u001b[38;5;241;43m.\u001b[39;49m\u001b[43m_cache\u001b[49m\u001b[43m[\u001b[49m\u001b[38;5;28;43mself\u001b[39;49m\u001b[38;5;241;43m.\u001b[39;49m\u001b[43m_key\u001b[49m\u001b[43m]\u001b[49m\n\u001b[1;32m    212\u001b[0m \u001b[38;5;28;01mexcept\u001b[39;00m \u001b[38;5;167;01mKeyError\u001b[39;00m:\n",
      "File \u001b[0;32m~/miniforge3/envs/PROD/lib/python3.12/site-packages/xarray/backends/lru_cache.py:56\u001b[0m, in \u001b[0;36mLRUCache.__getitem__\u001b[0;34m(self, key)\u001b[0m\n\u001b[1;32m     55\u001b[0m \u001b[38;5;28;01mwith\u001b[39;00m \u001b[38;5;28mself\u001b[39m\u001b[38;5;241m.\u001b[39m_lock:\n\u001b[0;32m---> 56\u001b[0m     value \u001b[38;5;241m=\u001b[39m \u001b[38;5;28;43mself\u001b[39;49m\u001b[38;5;241;43m.\u001b[39;49m\u001b[43m_cache\u001b[49m\u001b[43m[\u001b[49m\u001b[43mkey\u001b[49m\u001b[43m]\u001b[49m\n\u001b[1;32m     57\u001b[0m     \u001b[38;5;28mself\u001b[39m\u001b[38;5;241m.\u001b[39m_cache\u001b[38;5;241m.\u001b[39mmove_to_end(key)\n",
      "\u001b[0;31mKeyError\u001b[0m: [<class 'netCDF4._netCDF4.Dataset'>, ('/Users/marti/Data/IGCM_OUT/IPSLCM6/PROD/Holocene/TR6kCM6AS-Sr01/ATM/Analyse/SE/TR6kCM6AS-Sr01_SE_5300_5399_1M_histmth.nc',), 'r', (('clobber', True), ('diskless', False), ('format', 'NETCDF4'), ('persist', False)), '9fac4559-ef14-4316-80a7-af5ce94a6c68']",
      "\nDuring handling of the above exception, another exception occurred:\n",
      "\u001b[0;31mFileNotFoundError\u001b[0m                         Traceback (most recent call last)",
      "Cell \u001b[0;32mIn[9], line 3\u001b[0m\n\u001b[1;32m      1\u001b[0m \u001b[38;5;66;03m#kw = {'chunks':{\"time_counter\":8}}\u001b[39;00m\n\u001b[1;32m      2\u001b[0m kw\u001b[38;5;241m=\u001b[39m{}\n\u001b[0;32m----> 3\u001b[0m d_h \u001b[38;5;241m=\u001b[39m  \u001b[43mxr\u001b[49m\u001b[38;5;241;43m.\u001b[39;49m\u001b[43mopen_dataset\u001b[49m\u001b[43m \u001b[49m\u001b[43m(\u001b[49m\u001b[43mf_h\u001b[49m\u001b[43m,\u001b[49m\u001b[43m \u001b[49m\u001b[43muse_cftime\u001b[49m\u001b[38;5;241;43m=\u001b[39;49m\u001b[38;5;28;43;01mTrue\u001b[39;49;00m\u001b[43m,\u001b[49m\u001b[43m \u001b[49m\u001b[43mdecode_times\u001b[49m\u001b[38;5;241;43m=\u001b[39;49m\u001b[38;5;28;43;01mFalse\u001b[39;49;00m\u001b[43m,\u001b[49m\u001b[43m \u001b[49m\u001b[38;5;241;43m*\u001b[39;49m\u001b[38;5;241;43m*\u001b[39;49m\u001b[43mkw\u001b[49m\u001b[43m)\u001b[49m\n",
      "File \u001b[0;32m~/miniforge3/envs/PROD/lib/python3.12/site-packages/xarray/backends/api.py:588\u001b[0m, in \u001b[0;36mopen_dataset\u001b[0;34m(filename_or_obj, engine, chunks, cache, decode_cf, mask_and_scale, decode_times, decode_timedelta, use_cftime, concat_characters, decode_coords, drop_variables, inline_array, chunked_array_type, from_array_kwargs, backend_kwargs, **kwargs)\u001b[0m\n\u001b[1;32m    576\u001b[0m decoders \u001b[38;5;241m=\u001b[39m _resolve_decoders_kwargs(\n\u001b[1;32m    577\u001b[0m     decode_cf,\n\u001b[1;32m    578\u001b[0m     open_backend_dataset_parameters\u001b[38;5;241m=\u001b[39mbackend\u001b[38;5;241m.\u001b[39mopen_dataset_parameters,\n\u001b[0;32m   (...)\u001b[0m\n\u001b[1;32m    584\u001b[0m     decode_coords\u001b[38;5;241m=\u001b[39mdecode_coords,\n\u001b[1;32m    585\u001b[0m )\n\u001b[1;32m    587\u001b[0m overwrite_encoded_chunks \u001b[38;5;241m=\u001b[39m kwargs\u001b[38;5;241m.\u001b[39mpop(\u001b[38;5;124m\"\u001b[39m\u001b[38;5;124moverwrite_encoded_chunks\u001b[39m\u001b[38;5;124m\"\u001b[39m, \u001b[38;5;28;01mNone\u001b[39;00m)\n\u001b[0;32m--> 588\u001b[0m backend_ds \u001b[38;5;241m=\u001b[39m \u001b[43mbackend\u001b[49m\u001b[38;5;241;43m.\u001b[39;49m\u001b[43mopen_dataset\u001b[49m\u001b[43m(\u001b[49m\n\u001b[1;32m    589\u001b[0m \u001b[43m    \u001b[49m\u001b[43mfilename_or_obj\u001b[49m\u001b[43m,\u001b[49m\n\u001b[1;32m    590\u001b[0m \u001b[43m    \u001b[49m\u001b[43mdrop_variables\u001b[49m\u001b[38;5;241;43m=\u001b[39;49m\u001b[43mdrop_variables\u001b[49m\u001b[43m,\u001b[49m\n\u001b[1;32m    591\u001b[0m \u001b[43m    \u001b[49m\u001b[38;5;241;43m*\u001b[39;49m\u001b[38;5;241;43m*\u001b[39;49m\u001b[43mdecoders\u001b[49m\u001b[43m,\u001b[49m\n\u001b[1;32m    592\u001b[0m \u001b[43m    \u001b[49m\u001b[38;5;241;43m*\u001b[39;49m\u001b[38;5;241;43m*\u001b[39;49m\u001b[43mkwargs\u001b[49m\u001b[43m,\u001b[49m\n\u001b[1;32m    593\u001b[0m \u001b[43m\u001b[49m\u001b[43m)\u001b[49m\n\u001b[1;32m    594\u001b[0m ds \u001b[38;5;241m=\u001b[39m _dataset_from_backend_dataset(\n\u001b[1;32m    595\u001b[0m     backend_ds,\n\u001b[1;32m    596\u001b[0m     filename_or_obj,\n\u001b[0;32m   (...)\u001b[0m\n\u001b[1;32m    606\u001b[0m     \u001b[38;5;241m*\u001b[39m\u001b[38;5;241m*\u001b[39mkwargs,\n\u001b[1;32m    607\u001b[0m )\n\u001b[1;32m    608\u001b[0m \u001b[38;5;28;01mreturn\u001b[39;00m ds\n",
      "File \u001b[0;32m~/miniforge3/envs/PROD/lib/python3.12/site-packages/xarray/backends/netCDF4_.py:645\u001b[0m, in \u001b[0;36mNetCDF4BackendEntrypoint.open_dataset\u001b[0;34m(self, filename_or_obj, mask_and_scale, decode_times, concat_characters, decode_coords, drop_variables, use_cftime, decode_timedelta, group, mode, format, clobber, diskless, persist, lock, autoclose)\u001b[0m\n\u001b[1;32m    624\u001b[0m \u001b[38;5;28;01mdef\u001b[39;00m \u001b[38;5;21mopen_dataset\u001b[39m(  \u001b[38;5;66;03m# type: ignore[override]  # allow LSP violation, not supporting **kwargs\u001b[39;00m\n\u001b[1;32m    625\u001b[0m     \u001b[38;5;28mself\u001b[39m,\n\u001b[1;32m    626\u001b[0m     filename_or_obj: \u001b[38;5;28mstr\u001b[39m \u001b[38;5;241m|\u001b[39m os\u001b[38;5;241m.\u001b[39mPathLike[Any] \u001b[38;5;241m|\u001b[39m BufferedIOBase \u001b[38;5;241m|\u001b[39m AbstractDataStore,\n\u001b[0;32m   (...)\u001b[0m\n\u001b[1;32m    642\u001b[0m     autoclose\u001b[38;5;241m=\u001b[39m\u001b[38;5;28;01mFalse\u001b[39;00m,\n\u001b[1;32m    643\u001b[0m ) \u001b[38;5;241m-\u001b[39m\u001b[38;5;241m>\u001b[39m Dataset:\n\u001b[1;32m    644\u001b[0m     filename_or_obj \u001b[38;5;241m=\u001b[39m _normalize_path(filename_or_obj)\n\u001b[0;32m--> 645\u001b[0m     store \u001b[38;5;241m=\u001b[39m \u001b[43mNetCDF4DataStore\u001b[49m\u001b[38;5;241;43m.\u001b[39;49m\u001b[43mopen\u001b[49m\u001b[43m(\u001b[49m\n\u001b[1;32m    646\u001b[0m \u001b[43m        \u001b[49m\u001b[43mfilename_or_obj\u001b[49m\u001b[43m,\u001b[49m\n\u001b[1;32m    647\u001b[0m \u001b[43m        \u001b[49m\u001b[43mmode\u001b[49m\u001b[38;5;241;43m=\u001b[39;49m\u001b[43mmode\u001b[49m\u001b[43m,\u001b[49m\n\u001b[1;32m    648\u001b[0m \u001b[43m        \u001b[49m\u001b[38;5;28;43mformat\u001b[39;49m\u001b[38;5;241;43m=\u001b[39;49m\u001b[38;5;28;43mformat\u001b[39;49m\u001b[43m,\u001b[49m\n\u001b[1;32m    649\u001b[0m \u001b[43m        \u001b[49m\u001b[43mgroup\u001b[49m\u001b[38;5;241;43m=\u001b[39;49m\u001b[43mgroup\u001b[49m\u001b[43m,\u001b[49m\n\u001b[1;32m    650\u001b[0m \u001b[43m        \u001b[49m\u001b[43mclobber\u001b[49m\u001b[38;5;241;43m=\u001b[39;49m\u001b[43mclobber\u001b[49m\u001b[43m,\u001b[49m\n\u001b[1;32m    651\u001b[0m \u001b[43m        \u001b[49m\u001b[43mdiskless\u001b[49m\u001b[38;5;241;43m=\u001b[39;49m\u001b[43mdiskless\u001b[49m\u001b[43m,\u001b[49m\n\u001b[1;32m    652\u001b[0m \u001b[43m        \u001b[49m\u001b[43mpersist\u001b[49m\u001b[38;5;241;43m=\u001b[39;49m\u001b[43mpersist\u001b[49m\u001b[43m,\u001b[49m\n\u001b[1;32m    653\u001b[0m \u001b[43m        \u001b[49m\u001b[43mlock\u001b[49m\u001b[38;5;241;43m=\u001b[39;49m\u001b[43mlock\u001b[49m\u001b[43m,\u001b[49m\n\u001b[1;32m    654\u001b[0m \u001b[43m        \u001b[49m\u001b[43mautoclose\u001b[49m\u001b[38;5;241;43m=\u001b[39;49m\u001b[43mautoclose\u001b[49m\u001b[43m,\u001b[49m\n\u001b[1;32m    655\u001b[0m \u001b[43m    \u001b[49m\u001b[43m)\u001b[49m\n\u001b[1;32m    657\u001b[0m     store_entrypoint \u001b[38;5;241m=\u001b[39m StoreBackendEntrypoint()\n\u001b[1;32m    658\u001b[0m     \u001b[38;5;28;01mwith\u001b[39;00m close_on_error(store):\n",
      "File \u001b[0;32m~/miniforge3/envs/PROD/lib/python3.12/site-packages/xarray/backends/netCDF4_.py:408\u001b[0m, in \u001b[0;36mNetCDF4DataStore.open\u001b[0;34m(cls, filename, mode, format, group, clobber, diskless, persist, lock, lock_maker, autoclose)\u001b[0m\n\u001b[1;32m    402\u001b[0m kwargs \u001b[38;5;241m=\u001b[39m \u001b[38;5;28mdict\u001b[39m(\n\u001b[1;32m    403\u001b[0m     clobber\u001b[38;5;241m=\u001b[39mclobber, diskless\u001b[38;5;241m=\u001b[39mdiskless, persist\u001b[38;5;241m=\u001b[39mpersist, \u001b[38;5;28mformat\u001b[39m\u001b[38;5;241m=\u001b[39m\u001b[38;5;28mformat\u001b[39m\n\u001b[1;32m    404\u001b[0m )\n\u001b[1;32m    405\u001b[0m manager \u001b[38;5;241m=\u001b[39m CachingFileManager(\n\u001b[1;32m    406\u001b[0m     netCDF4\u001b[38;5;241m.\u001b[39mDataset, filename, mode\u001b[38;5;241m=\u001b[39mmode, kwargs\u001b[38;5;241m=\u001b[39mkwargs\n\u001b[1;32m    407\u001b[0m )\n\u001b[0;32m--> 408\u001b[0m \u001b[38;5;28;01mreturn\u001b[39;00m \u001b[38;5;28;43mcls\u001b[39;49m\u001b[43m(\u001b[49m\u001b[43mmanager\u001b[49m\u001b[43m,\u001b[49m\u001b[43m \u001b[49m\u001b[43mgroup\u001b[49m\u001b[38;5;241;43m=\u001b[39;49m\u001b[43mgroup\u001b[49m\u001b[43m,\u001b[49m\u001b[43m \u001b[49m\u001b[43mmode\u001b[49m\u001b[38;5;241;43m=\u001b[39;49m\u001b[43mmode\u001b[49m\u001b[43m,\u001b[49m\u001b[43m \u001b[49m\u001b[43mlock\u001b[49m\u001b[38;5;241;43m=\u001b[39;49m\u001b[43mlock\u001b[49m\u001b[43m,\u001b[49m\u001b[43m \u001b[49m\u001b[43mautoclose\u001b[49m\u001b[38;5;241;43m=\u001b[39;49m\u001b[43mautoclose\u001b[49m\u001b[43m)\u001b[49m\n",
      "File \u001b[0;32m~/miniforge3/envs/PROD/lib/python3.12/site-packages/xarray/backends/netCDF4_.py:355\u001b[0m, in \u001b[0;36mNetCDF4DataStore.__init__\u001b[0;34m(self, manager, group, mode, lock, autoclose)\u001b[0m\n\u001b[1;32m    353\u001b[0m \u001b[38;5;28mself\u001b[39m\u001b[38;5;241m.\u001b[39m_group \u001b[38;5;241m=\u001b[39m group\n\u001b[1;32m    354\u001b[0m \u001b[38;5;28mself\u001b[39m\u001b[38;5;241m.\u001b[39m_mode \u001b[38;5;241m=\u001b[39m mode\n\u001b[0;32m--> 355\u001b[0m \u001b[38;5;28mself\u001b[39m\u001b[38;5;241m.\u001b[39mformat \u001b[38;5;241m=\u001b[39m \u001b[38;5;28;43mself\u001b[39;49m\u001b[38;5;241;43m.\u001b[39;49m\u001b[43mds\u001b[49m\u001b[38;5;241m.\u001b[39mdata_model\n\u001b[1;32m    356\u001b[0m \u001b[38;5;28mself\u001b[39m\u001b[38;5;241m.\u001b[39m_filename \u001b[38;5;241m=\u001b[39m \u001b[38;5;28mself\u001b[39m\u001b[38;5;241m.\u001b[39mds\u001b[38;5;241m.\u001b[39mfilepath()\n\u001b[1;32m    357\u001b[0m \u001b[38;5;28mself\u001b[39m\u001b[38;5;241m.\u001b[39mis_remote \u001b[38;5;241m=\u001b[39m is_remote_uri(\u001b[38;5;28mself\u001b[39m\u001b[38;5;241m.\u001b[39m_filename)\n",
      "File \u001b[0;32m~/miniforge3/envs/PROD/lib/python3.12/site-packages/xarray/backends/netCDF4_.py:417\u001b[0m, in \u001b[0;36mNetCDF4DataStore.ds\u001b[0;34m(self)\u001b[0m\n\u001b[1;32m    415\u001b[0m \u001b[38;5;129m@property\u001b[39m\n\u001b[1;32m    416\u001b[0m \u001b[38;5;28;01mdef\u001b[39;00m \u001b[38;5;21mds\u001b[39m(\u001b[38;5;28mself\u001b[39m):\n\u001b[0;32m--> 417\u001b[0m     \u001b[38;5;28;01mreturn\u001b[39;00m \u001b[38;5;28;43mself\u001b[39;49m\u001b[38;5;241;43m.\u001b[39;49m\u001b[43m_acquire\u001b[49m\u001b[43m(\u001b[49m\u001b[43m)\u001b[49m\n",
      "File \u001b[0;32m~/miniforge3/envs/PROD/lib/python3.12/site-packages/xarray/backends/netCDF4_.py:411\u001b[0m, in \u001b[0;36mNetCDF4DataStore._acquire\u001b[0;34m(self, needs_lock)\u001b[0m\n\u001b[1;32m    410\u001b[0m \u001b[38;5;28;01mdef\u001b[39;00m \u001b[38;5;21m_acquire\u001b[39m(\u001b[38;5;28mself\u001b[39m, needs_lock\u001b[38;5;241m=\u001b[39m\u001b[38;5;28;01mTrue\u001b[39;00m):\n\u001b[0;32m--> 411\u001b[0m \u001b[43m    \u001b[49m\u001b[38;5;28;43;01mwith\u001b[39;49;00m\u001b[43m \u001b[49m\u001b[38;5;28;43mself\u001b[39;49m\u001b[38;5;241;43m.\u001b[39;49m\u001b[43m_manager\u001b[49m\u001b[38;5;241;43m.\u001b[39;49m\u001b[43macquire_context\u001b[49m\u001b[43m(\u001b[49m\u001b[43mneeds_lock\u001b[49m\u001b[43m)\u001b[49m\u001b[43m \u001b[49m\u001b[38;5;28;43;01mas\u001b[39;49;00m\u001b[43m \u001b[49m\u001b[43mroot\u001b[49m\u001b[43m:\u001b[49m\n\u001b[1;32m    412\u001b[0m \u001b[43m        \u001b[49m\u001b[43mds\u001b[49m\u001b[43m \u001b[49m\u001b[38;5;241;43m=\u001b[39;49m\u001b[43m \u001b[49m\u001b[43m_nc4_require_group\u001b[49m\u001b[43m(\u001b[49m\u001b[43mroot\u001b[49m\u001b[43m,\u001b[49m\u001b[43m \u001b[49m\u001b[38;5;28;43mself\u001b[39;49m\u001b[38;5;241;43m.\u001b[39;49m\u001b[43m_group\u001b[49m\u001b[43m,\u001b[49m\u001b[43m \u001b[49m\u001b[38;5;28;43mself\u001b[39;49m\u001b[38;5;241;43m.\u001b[39;49m\u001b[43m_mode\u001b[49m\u001b[43m)\u001b[49m\n\u001b[1;32m    413\u001b[0m     \u001b[38;5;28;01mreturn\u001b[39;00m ds\n",
      "File \u001b[0;32m~/miniforge3/envs/PROD/lib/python3.12/contextlib.py:137\u001b[0m, in \u001b[0;36m_GeneratorContextManager.__enter__\u001b[0;34m(self)\u001b[0m\n\u001b[1;32m    135\u001b[0m \u001b[38;5;28;01mdel\u001b[39;00m \u001b[38;5;28mself\u001b[39m\u001b[38;5;241m.\u001b[39margs, \u001b[38;5;28mself\u001b[39m\u001b[38;5;241m.\u001b[39mkwds, \u001b[38;5;28mself\u001b[39m\u001b[38;5;241m.\u001b[39mfunc\n\u001b[1;32m    136\u001b[0m \u001b[38;5;28;01mtry\u001b[39;00m:\n\u001b[0;32m--> 137\u001b[0m     \u001b[38;5;28;01mreturn\u001b[39;00m \u001b[38;5;28;43mnext\u001b[39;49m\u001b[43m(\u001b[49m\u001b[38;5;28;43mself\u001b[39;49m\u001b[38;5;241;43m.\u001b[39;49m\u001b[43mgen\u001b[49m\u001b[43m)\u001b[49m\n\u001b[1;32m    138\u001b[0m \u001b[38;5;28;01mexcept\u001b[39;00m \u001b[38;5;167;01mStopIteration\u001b[39;00m:\n\u001b[1;32m    139\u001b[0m     \u001b[38;5;28;01mraise\u001b[39;00m \u001b[38;5;167;01mRuntimeError\u001b[39;00m(\u001b[38;5;124m\"\u001b[39m\u001b[38;5;124mgenerator didn\u001b[39m\u001b[38;5;124m'\u001b[39m\u001b[38;5;124mt yield\u001b[39m\u001b[38;5;124m\"\u001b[39m) \u001b[38;5;28;01mfrom\u001b[39;00m \u001b[38;5;28;01mNone\u001b[39;00m\n",
      "File \u001b[0;32m~/miniforge3/envs/PROD/lib/python3.12/site-packages/xarray/backends/file_manager.py:199\u001b[0m, in \u001b[0;36mCachingFileManager.acquire_context\u001b[0;34m(self, needs_lock)\u001b[0m\n\u001b[1;32m    196\u001b[0m \u001b[38;5;129m@contextlib\u001b[39m\u001b[38;5;241m.\u001b[39mcontextmanager\n\u001b[1;32m    197\u001b[0m \u001b[38;5;28;01mdef\u001b[39;00m \u001b[38;5;21macquire_context\u001b[39m(\u001b[38;5;28mself\u001b[39m, needs_lock\u001b[38;5;241m=\u001b[39m\u001b[38;5;28;01mTrue\u001b[39;00m):\n\u001b[1;32m    198\u001b[0m \u001b[38;5;250m    \u001b[39m\u001b[38;5;124;03m\"\"\"Context manager for acquiring a file.\"\"\"\u001b[39;00m\n\u001b[0;32m--> 199\u001b[0m     file, cached \u001b[38;5;241m=\u001b[39m \u001b[38;5;28;43mself\u001b[39;49m\u001b[38;5;241;43m.\u001b[39;49m\u001b[43m_acquire_with_cache_info\u001b[49m\u001b[43m(\u001b[49m\u001b[43mneeds_lock\u001b[49m\u001b[43m)\u001b[49m\n\u001b[1;32m    200\u001b[0m     \u001b[38;5;28;01mtry\u001b[39;00m:\n\u001b[1;32m    201\u001b[0m         \u001b[38;5;28;01myield\u001b[39;00m file\n",
      "File \u001b[0;32m~/miniforge3/envs/PROD/lib/python3.12/site-packages/xarray/backends/file_manager.py:217\u001b[0m, in \u001b[0;36mCachingFileManager._acquire_with_cache_info\u001b[0;34m(self, needs_lock)\u001b[0m\n\u001b[1;32m    215\u001b[0m     kwargs \u001b[38;5;241m=\u001b[39m kwargs\u001b[38;5;241m.\u001b[39mcopy()\n\u001b[1;32m    216\u001b[0m     kwargs[\u001b[38;5;124m\"\u001b[39m\u001b[38;5;124mmode\u001b[39m\u001b[38;5;124m\"\u001b[39m] \u001b[38;5;241m=\u001b[39m \u001b[38;5;28mself\u001b[39m\u001b[38;5;241m.\u001b[39m_mode\n\u001b[0;32m--> 217\u001b[0m file \u001b[38;5;241m=\u001b[39m \u001b[38;5;28;43mself\u001b[39;49m\u001b[38;5;241;43m.\u001b[39;49m\u001b[43m_opener\u001b[49m\u001b[43m(\u001b[49m\u001b[38;5;241;43m*\u001b[39;49m\u001b[38;5;28;43mself\u001b[39;49m\u001b[38;5;241;43m.\u001b[39;49m\u001b[43m_args\u001b[49m\u001b[43m,\u001b[49m\u001b[43m \u001b[49m\u001b[38;5;241;43m*\u001b[39;49m\u001b[38;5;241;43m*\u001b[39;49m\u001b[43mkwargs\u001b[49m\u001b[43m)\u001b[49m\n\u001b[1;32m    218\u001b[0m \u001b[38;5;28;01mif\u001b[39;00m \u001b[38;5;28mself\u001b[39m\u001b[38;5;241m.\u001b[39m_mode \u001b[38;5;241m==\u001b[39m \u001b[38;5;124m\"\u001b[39m\u001b[38;5;124mw\u001b[39m\u001b[38;5;124m\"\u001b[39m:\n\u001b[1;32m    219\u001b[0m     \u001b[38;5;66;03m# ensure file doesn't get overridden when opened again\u001b[39;00m\n\u001b[1;32m    220\u001b[0m     \u001b[38;5;28mself\u001b[39m\u001b[38;5;241m.\u001b[39m_mode \u001b[38;5;241m=\u001b[39m \u001b[38;5;124m\"\u001b[39m\u001b[38;5;124ma\u001b[39m\u001b[38;5;124m\"\u001b[39m\n",
      "File \u001b[0;32msrc/netCDF4/_netCDF4.pyx:2470\u001b[0m, in \u001b[0;36mnetCDF4._netCDF4.Dataset.__init__\u001b[0;34m()\u001b[0m\n",
      "File \u001b[0;32msrc/netCDF4/_netCDF4.pyx:2107\u001b[0m, in \u001b[0;36mnetCDF4._netCDF4._ensure_nc_success\u001b[0;34m()\u001b[0m\n",
      "\u001b[0;31mFileNotFoundError\u001b[0m: [Errno 2] No such file or directory: '/Users/marti/Data/IGCM_OUT/IPSLCM6/PROD/Holocene/TR6kCM6AS-Sr01/ATM/Analyse/SE/TR6kCM6AS-Sr01_SE_5300_5399_1M_histmth.nc'"
     ]
    }
   ],
   "source": [
    "#kw = {'chunks':{\"time_counter\":8}}\n",
    "kw={}\n",
    "d_h =  xr.open_dataset (f_h, use_cftime=True, decode_times=False, **kw)"
   ]
  },
  {
   "cell_type": "code",
   "execution_count": null,
   "id": "6898708b-3f69-4366-b61e-d8f1fd080684",
   "metadata": {},
   "outputs": [],
   "source": [
    "d_h"
   ]
  },
  {
   "cell_type": "markdown",
   "id": "3ab8a510-df70-4f4d-8d62-e8e7810fcd60",
   "metadata": {},
   "source": [
    "## Read variables"
   ]
  },
  {
   "cell_type": "code",
   "execution_count": null,
   "id": "1d1e3b4e-f16a-45e3-9b48-54d338d0000c",
   "metadata": {},
   "outputs": [],
   "source": [
    "t2m      = d_h['t2m']  - lmdz.RT0   # Air temperature : change from °K to °C\n",
    "temp     = d_h['temp'] - lmdz.RT0\n",
    "q2m      = d_h['q2m']\n",
    "psol     = d_h['psol']\n",
    "pres     = d_h['pres']\n",
    "presnivs = d_h['presnivs']\n",
    "u10m     = d_h['u10m']\n",
    "v10m     = d_h['v10m']\n",
    "wind10m  = d_h['wind10m']\n",
    "vitu     = d_h['vitu']\n",
    "vitv     = d_h['vitv']\n",
    "vitw     = d_h['vitw']\n",
    "sst      = (d_h['tsol_oce'] - lmdz.RT0).where ( d_h['pourc_oce']>0, np.nan) # SST : change from °K to °C\n",
    "rhum     = d_h['rhum']\n",
    "\n",
    "lon = d_h ['lon'] ; lat = d_h ['lat']"
   ]
  },
  {
   "cell_type": "markdown",
   "id": "1928817a-8757-4e25-82e1-740fb1d18e85",
   "metadata": {},
   "source": [
    "## Standard pressure levels"
   ]
  },
  {
   "cell_type": "code",
   "execution_count": null,
   "id": "8a7cab04-788a-4443-ad05-c4b511b13c83",
   "metadata": {
    "jupyter": {
     "source_hidden": true
    }
   },
   "outputs": [],
   "source": [
    "std_lev = np.array ( [1013, 1000, 975, 950, 925, 900, 875, 850, 825, \n",
    "                       800,  750, 700, 650, 600, 550, 500, 450, 400, 350, 300, 250,\n",
    "                       200,  150, 100,  70,  50,  30,  20,  10]) * 100.\n",
    "\n",
    "std_lev = xr.DataArray ( std_lev, dims=('pressure',), coords= (std_lev,) )\n",
    "std_lev.attrs.update ( {'units':'Pa', 'standard_name':'Pressure levels'} )"
   ]
  },
  {
   "cell_type": "markdown",
   "id": "d176a7cb-62b6-4254-96b8-c0012a3f68cc",
   "metadata": {},
   "source": [
    "## Font size for plots"
   ]
  },
  {
   "cell_type": "code",
   "execution_count": null,
   "id": "7836ea74-14d5-48b1-8fd1-1154371defc5",
   "metadata": {
    "jupyter": {
     "source_hidden": true
    }
   },
   "outputs": [],
   "source": [
    "#plt.style.use (\"dark_background\")\n",
    "plt.rcParams ['font.size'] = '16'\n",
    "\n",
    "background = plt.rcParams['figure.facecolor']\n",
    "foreground = plt.rcParams['lines.color']"
   ]
  },
  {
   "cell_type": "markdown",
   "id": "27be598a-0e79-4b29-838f-2f504db13fe1",
   "metadata": {},
   "source": [
    "### Get logo files"
   ]
  },
  {
   "cell_type": "code",
   "execution_count": null,
   "id": "85655577-f90c-4905-baaa-0df91a8f682d",
   "metadata": {
    "jupyter": {
     "source_hidden": true
    }
   },
   "outputs": [],
   "source": [
    "def GetLogo ( url, File='Logo.png' ) : \n",
    "    import requests, os\n",
    "    from pathlib import Path\n",
    "    File = Path (File)\n",
    "    if \"http\" in url : \n",
    "        suffix = File.suffix\n",
    "        if suffix == '' : \n",
    "            suffix = '.png'\n",
    "            File = File + suffix\n",
    "        if not File.exists () :\n",
    "            data = requests.get(url).content\n",
    "            file = open ( f'{File}', 'wb')\n",
    "            file.write (data)\n",
    "        Logo = mpl.image.imread ( f'{File}')\n",
    "    else :\n",
    "        Logo = mpl.image.imread (url)\n",
    "    return Logo"
   ]
  },
  {
   "cell_type": "markdown",
   "id": "455121a6-591b-4d2f-9cb0-7c130341f3d9",
   "metadata": {},
   "source": [
    "# Plots"
   ]
  },
  {
   "cell_type": "markdown",
   "id": "c6f49ac8-5a17-4629-a9c0-f2d136bf5335",
   "metadata": {},
   "source": [
    "## Simple time plot"
   ]
  },
  {
   "cell_type": "code",
   "execution_count": null,
   "id": "67f0d7d5-7e9c-47e3-923b-45899fc98d2c",
   "metadata": {
    "jupyter": {
     "source_hidden": true
    }
   },
   "outputs": [],
   "source": [
    "t2m.sel ( {'lat':-60, 'lon':40}, 'nearest' ).plot()"
   ]
  },
  {
   "cell_type": "code",
   "execution_count": null,
   "id": "6d5eae19-01bd-4e68-b3be-2bf958d6bddb",
   "metadata": {
    "jupyter": {
     "source_hidden": true
    }
   },
   "outputs": [],
   "source": [
    "t2m.sel ( {'lat':slice(-30,-70)} ).mean (dim='lon').plot ()"
   ]
  },
  {
   "cell_type": "markdown",
   "id": "f44f8a3a-8670-4dec-8481-1b7a7d968fb9",
   "metadata": {},
   "source": [
    "## Scalars"
   ]
  },
  {
   "cell_type": "markdown",
   "id": "7c3ab472-d14e-4456-8b30-d51671ea937a",
   "metadata": {},
   "source": [
    "### Robinson"
   ]
  },
  {
   "cell_type": "code",
   "execution_count": null,
   "id": "e8d8bde9-9215-4fbd-a982-5df9389f1d2b",
   "metadata": {
    "jupyter": {
     "source_hidden": true
    }
   },
   "outputs": [],
   "source": [
    "# Creates the color palette\n",
    "#levels = mpl.ticker.MaxNLocator (nbins=17).tick_values (-2, 30)\n",
    "levels= np.linspace (-2, 30, 17) \n",
    "palet  = mpl.cm.plasma\n",
    "colors = palet (np.linspace (0, 1, len(levels)+1))\n",
    "cmap   = mpl.colors.ListedColormap(colors)\n",
    "cmap.set_bad ('grey')\n",
    "norm   = mpl.colors.BoundaryNorm (levels, ncolors=cmap.N+1, clip=False, extend='both')\n",
    "\n",
    "# Describe the model projection in the file\n",
    "ProjIn = ccrs.PlateCarree (central_longitude=0) \n",
    "\n",
    "# Projection for plots\n",
    "ProjPlot = ccrs.Robinson (central_longitude=270) # Plotted projection\n",
    "\n",
    "# Creates the figure\n",
    "fig, ax = plt.subplots ( figsize=(15,6), subplot_kw={'projection':ProjPlot} )\n",
    "ax.set_global ()\n",
    "\n",
    "# Select data\n",
    "tt, xx, yy = lmdz.add_cyclic (sst[0], lon, lat)\n",
    "\n",
    "# Color filing\n",
    "mmap = ax.contourf (xx, yy, tt, \n",
    "                    cmap=cmap, norm=norm, levels=levels, transform=ProjIn, extend='both')\n",
    "    \n",
    "# Contour lines\n",
    "mlin = ax.contour (xx, yy, tt, colors='k', levels=levels, transform=ProjIn, linewidths=0.25)\n",
    "\n",
    "# Add labels to contour lines\n",
    "ax.clabel (mlin, colors=['k'], manual=False,  # Automatic placement\n",
    "        inline=True,  # Cut the line where the label will be placed.\n",
    "        fmt='{:3.1f} '.format, fontsize='xx-small' )\n",
    "\n",
    "# Beautify\n",
    "ax.gridlines (draw_labels=True, crs=ProjIn,)\n",
    "ax.coastlines ()\n",
    "ax.add_feature(cartopy.feature.LAND, color='red')\n",
    "\n",
    "# Color palette\n",
    "plt.colorbar(mmap, label=\"°C\")\n",
    "\n"
   ]
  },
  {
   "cell_type": "markdown",
   "id": "d8d3c956-e241-4d2d-8bab-839329d95183",
   "metadata": {},
   "source": [
    "### Orthographic"
   ]
  },
  {
   "cell_type": "code",
   "execution_count": null,
   "id": "f5773ce5-0fd6-40db-9bc2-14d83245cdc0",
   "metadata": {
    "jupyter": {
     "source_hidden": true
    }
   },
   "outputs": [],
   "source": [
    "# Creates the color palette\n",
    "levels = mpl.ticker.MaxNLocator (nbins=17).tick_values (-2, 30)\n",
    "palet  = mpl.cm.RdYlGn\n",
    "colors = palet (np.linspace (0, 1, len(levels)+1))\n",
    "cmap   = mpl.colors.ListedColormap(colors)\n",
    "cmap.set_bad ('grey')\n",
    "norm   = mpl.colors.BoundaryNorm (levels, ncolors=cmap.N+1, clip=False, extend='both')\n",
    "\n",
    "# Describe the model projection in the file\n",
    "ProjIn = ccrs.PlateCarree (central_longitude=0) \n",
    "\n",
    "# Projection for plots\n",
    "ProjPlot = ccrs.Orthographic (central_longitude=-20, central_latitude=-60) # Plotted projection\n",
    "\n",
    "# Creates the figure\n",
    "fig = plt.figure (figsize=(15,6))\n",
    "\n",
    "# Creates the viewport, with the associated projection\n",
    "ax = fig.add_subplot (1, 1, 1, projection=ProjPlot)\n",
    "\n",
    "ax.set_global ()\n",
    "\n",
    "# Select data\n",
    "tt, xx, yy = lmdz.add_cyclic (sst[0], lon, lat)\n",
    "\n",
    "# Color filing\n",
    "mmap = ax.contourf ( xx, yy, tt, \n",
    "                    cmap=cmap, norm=norm, levels=levels, transform=ProjIn, extend='both')\n",
    "    \n",
    "# Contour lines\n",
    "mlin3 = ax.contour (xx, yy, tt, colors='k', levels=levels[::3], transform=ProjIn, linewidths=1)\n",
    "mlin  = ax.contour (xx, yy, tt, colors='k', levels=levels, transform=ProjIn, linewidths=0.25)\n",
    "\n",
    "# Add labels to contour lines\n",
    "ax.clabel (mlin3, colors=['k'], manual=False,  # Automatic placement\n",
    "        inline=True,  # Cut the line where the label will be placed.\n",
    "        fmt='{:3.1f} '.format, fontsize='xx-small' )\n",
    "\n",
    "# Beautify\n",
    "ax.gridlines (draw_labels=True, crs=ProjIn,)\n",
    "ax.coastlines ()\n",
    "\n",
    "plt.colorbar ( mmap, label=\"°C\" )\n",
    "\n",
    "plt.suptitle ( \"Sea Surface Temperature on LMDZ grid\" )"
   ]
  },
  {
   "cell_type": "markdown",
   "id": "b799e6af-5f88-4786-8605-9a5c63f08a1d",
   "metadata": {},
   "source": [
    "# Vertical slices"
   ]
  },
  {
   "cell_type": "markdown",
   "id": "26d72765-ea2f-485b-8a56-4197484dd7ec",
   "metadata": {},
   "source": [
    "## Zonal mean"
   ]
  },
  {
   "cell_type": "code",
   "execution_count": null,
   "id": "ca312ba8-7aec-441a-a7bb-333b02aa772b",
   "metadata": {
    "jupyter": {
     "source_hidden": true
    }
   },
   "outputs": [],
   "source": [
    "# Creates the color palette\n",
    "levels = mpl.ticker.MaxNLocator (nbins=18).tick_values (-60, 30)\n",
    "palet  = mpl.cm.gnuplot\n",
    "colors = palet (np.linspace (0, 1, len(levels)+1))\n",
    "cmap   = mpl.colors.ListedColormap(colors)\n",
    "cmap.set_bad ('grey')\n",
    "norm   = mpl.colors.BoundaryNorm (levels, ncolors=cmap.N+1, clip=False, extend='both')\n",
    "\n",
    "# Creates the figure\n",
    "fig = plt.figure (figsize=(15,6))\n",
    "\n",
    "# Creates the viewport\n",
    "ax = fig.add_subplot (1, 1, 1)\n",
    "\n",
    "# Extract data\n",
    "tt = temp.isel( time_counter=0 ).mean(dim=['lon',])\n",
    "\n",
    "# Color filing\n",
    "mmap = ax.contourf (lat, presnivs/100, tt,\n",
    "         cmap=cmap, norm=norm, levels=levels, extend='both')\n",
    "\n",
    "ax.invert_yaxis()\n",
    "ax.xaxis.set_major_formatter(cartopy.mpl.ticker.LatitudeFormatter (number_format='.0f'))\n",
    "ax.set_xlabel (\"Latitude\") ; ax.set_ylabel (\"Pressure\")\n",
    "ax.yaxis.set_major_formatter (cartopy.mpl.ticker.LatitudeFormatter (number_format='.0f'))\n",
    "\n",
    "plt.colorbar (mmap, label=\"°C\")\n",
    "\n",
    "# Contour lines\n",
    "mlin3 = ax.contour (lat, presnivs/100, tt, colors='k', levels=levels[::2], linewidths=1)\n",
    "mlin  = ax.contour (lat, presnivs/100, tt, colors='k', levels=levels, linewidths=0.25)\n",
    "\n",
    "# Add labels to contour lines\n",
    "ax.clabel (mlin3, colors=['k'], manual=False,  # Automatic placement\n",
    "        inline=True,  # Cut the line where the label will be placed.\n",
    "        fmt='{:3.1f} '.format, fontsize='xx-small' )\n",
    "\n",
    "ax.set_title ( \"Latitudinal slice of temperature\" )"
   ]
  },
  {
   "cell_type": "markdown",
   "id": "fb00f33f-ae5b-4a8a-847e-35ac49b41726",
   "metadata": {},
   "source": [
    "### Equator slice"
   ]
  },
  {
   "cell_type": "code",
   "execution_count": null,
   "id": "276b2b28-a620-4e3e-9bd7-b3e25c6ef00a",
   "metadata": {},
   "outputs": [],
   "source": [
    "# Creates the color palette\n",
    "levels = mpl.ticker.MaxNLocator (nbins=17).tick_values (-40, 40)\n",
    "palet  = mpl.cm.PiYG_r\n",
    "colors = palet (np.linspace (0, 1, len(levels)+1))\n",
    "cmap   = mpl.colors.ListedColormap(colors)\n",
    "cmap.set_bad ('grey')\n",
    "norm   = mpl.colors.BoundaryNorm (levels, ncolors=cmap.N+1, clip=False, extend='both')\n",
    "# Creates the figure\n",
    "fig = plt.figure (figsize=(15,6))\n",
    "\n",
    "# Creates the viewport\n",
    "ax = fig.add_subplot (1, 1, 1)\n",
    "\n",
    "# Extract data\n",
    "vu = vitu.isel( time_counter=0 ).sel( {'lat':0} )\n",
    "\n",
    "# Color filing\n",
    "mmap = ax.contourf (lon, presnivs/100, vu,\n",
    "         cmap=cmap, norm=norm, levels=levels, extend='both')\n",
    "\n",
    "ax.invert_yaxis()\n",
    "ax.xaxis.set_major_formatter(cartopy.mpl.ticker.LongitudeFormatter(number_format='.0f'))\n",
    "ax.set_xlabel (\"Latitude\") ; ax.set_ylabel (\"Pressure\")\n",
    "\n",
    "plt.colorbar (mmap, label=r\"$m \\cdot s^{-1}$\")\n",
    "\n",
    "# Contour lines\n",
    "mlin3 = ax.contour (lon, presnivs/100, vu, colors='k', )#levels=levels[::3], linewidths=1)\n",
    "mlin  = ax.contour (lon, presnivs/100, vu, colors='k', )#levels=levels, linewidths=0.25)\n",
    "\n",
    "# Add labels to contour lines\n",
    "ax.clabel (mlin3, colors=['k'], manual=False,  # Automatic placement\n",
    "        inline=True,  # Cut the line where the label will be placed.\n",
    "        fmt='{:3.1f} '.format, fontsize='xx-small' )\n",
    "\n",
    "ax.set_title ( \"Temperature along equator\" )"
   ]
  },
  {
   "cell_type": "markdown",
   "id": "dad94f14-30e8-4c27-9e92-4855c053ee1e",
   "metadata": {},
   "source": [
    "### Zonal mean on standard pressure levels"
   ]
  },
  {
   "cell_type": "code",
   "execution_count": null,
   "id": "f395e078-d812-441d-8a4a-4a06e019b237",
   "metadata": {},
   "outputs": [],
   "source": [
    "# Creates the color palette\n",
    "levels = mpl.ticker.MaxNLocator (nbins=17).tick_values (-0.040, 0.040)\n",
    "palet  = mpl.cm.RdBu_r\n",
    "colors = palet (np.linspace (0, 1, len(levels)+1))\n",
    "cmap   = mpl.colors.ListedColormap(colors)\n",
    "cmap.set_bad ('grey')\n",
    "norm   = mpl.colors.BoundaryNorm (levels, ncolors=cmap.N+1, clip=False, extend='both')\n",
    "\n",
    "# Creates the figure\n",
    "fig = plt.figure (figsize=(15,6))\n",
    "\n",
    "# Creates the viewport\n",
    "ax = fig.add_subplot (1, 1, 1)\n",
    "\n",
    "# Extract and interpolate data\n",
    "w1  = vitw.isel(time_counter=0)\n",
    "xp1 = pres.isel(time_counter=0)\n",
    "\n",
    "w2 = lmdz.interp1d (x=std_lev/100, xp=xp1/100, yp=w1, zdim='presnivs', method='linear'  )\n",
    "ww = w2.mean(dim=['lon'])\n",
    "\n",
    "# Color filing\n",
    "mmap = ax.contourf (lat, std_lev/100, ww,\n",
    "         cmap=cmap, norm=norm, levels=levels, extend='both')\n",
    "\n",
    "ax.invert_yaxis()\n",
    "ax.xaxis.set_major_formatter(cartopy.mpl.ticker.LatitudeFormatter(number_format='.0f'))\n",
    "ax.set_xlabel (\"Latitude\") ; ax.set_ylabel (\"Pressure\")\n",
    "\n",
    "plt.colorbar (mmap, label=r\"$Pa \\cdot s^{-1}$\")\n",
    "\n",
    "# Contour lines\n",
    "mlin3 = ax.contour (lat, std_lev/100, ww, colors='k', levels=levels[::3], linewidths=1)\n",
    "mlin  = ax.contour (lat, std_lev/100, ww, colors='k', levels=levels, linewidths=0.25)\n",
    "\n",
    "# Add labels to contour lines\n",
    "ax.clabel (mlin3, colors=['k'], manual=False,  # Automatic placement\n",
    "        inline=True,  # Cut the line where the label will be placed.\n",
    "        fmt='{:3.1f} '.format, fontsize='xx-small' )\n",
    "\n",
    "ax.set_title ( \"Zonal average of vertical velocity\" )"
   ]
  },
  {
   "cell_type": "markdown",
   "id": "7da1e4de-cb5e-42b0-9a5c-8bbe4cd07c46",
   "metadata": {},
   "source": [
    "# Winds vectors"
   ]
  },
  {
   "cell_type": "markdown",
   "id": "78115523-4418-413a-b82e-c1e5ee56ca96",
   "metadata": {},
   "source": [
    "## Horizontal maps"
   ]
  },
  {
   "cell_type": "markdown",
   "id": "0980d23d-51dc-4a6f-a61c-56540643112c",
   "metadata": {},
   "source": [
    "### Robinson"
   ]
  },
  {
   "cell_type": "code",
   "execution_count": null,
   "id": "1e34a736-03ee-4762-8cbb-193e80f7fae7",
   "metadata": {},
   "outputs": [],
   "source": [
    "# Creates the color palette\n",
    "levels = mpl.ticker.MaxNLocator (nbins=17).tick_values (1, 9)\n",
    "palet  = mpl.cm.plasma_r\n",
    "colors = palet (np.linspace (0, 1, len(levels)+1))\n",
    "cmap   = mpl.colors.ListedColormap(colors)\n",
    "cmap.set_bad ('grey')\n",
    "norm   = mpl.colors.BoundaryNorm (levels, ncolors=cmap.N+1, clip=False, extend='both')\n",
    "\n",
    "# Describe the model projection in the file\n",
    "ProjIn = ccrs.PlateCarree (central_longitude=0) \n",
    "\n",
    "# Projection for plots\n",
    "#ProjPlot = ccrs.Robinson (central_longitude=270) # Plotted projection\n",
    "ProjPlot = ccrs.PlateCarree (central_longitude=270) # Plotted projection\n",
    "\n",
    "\n",
    "# Creates the figure\n",
    "fig, ax = plt.subplots ( figsize=(15,6), subplot_kw={'projection':ProjPlot}, layout=\"constrained\")\n",
    "#ax.set_global ()\n",
    "ax.set_extent ([-80,40,-10,70], crs=ProjIn)\n",
    "\n",
    "# Select data\n",
    "ux = u10m.isel (time_counter=0)\n",
    "vy = v10m.isel (time_counter=0)\n",
    "uv = wind10m.isel (time_counter=0)\n",
    "\n",
    "ux, xx, yy = lmdz.add_cyclic ( u10m   .isel(time_counter=0), lon, lat)\n",
    "vy, xx, yy = lmdz.add_cyclic ( v10m   .isel(time_counter=0), lon, lat)\n",
    "uv, xx, yy = lmdz.add_cyclic ( wind10m.isel(time_counter=0), lon, lat)\n",
    "\n",
    "#\n",
    "mver = ax.quiver (xx.values, yy.values, ux.values, vy.values, uv.values,\n",
    "                  pivot='tip', scale=200, width=2E-3, transform=ProjIn,\n",
    "                  cmap=cmap, norm=norm)\n",
    "\n",
    "ax.quiverkey (mver, X=0.12, Y=0.1, U=10, label=r'10 m$\\cdot$s$^{-1}$', labelpos='S', \n",
    "              linewidth=2, color='red')\n",
    "\n",
    "# Beautify\n",
    "ax.gridlines (draw_labels=True, crs=ProjIn,)\n",
    "ax.coastlines ()\n",
    "plt.colorbar (mver, label=r\"$m \\cdot s^{-1}$\")\n",
    "\n",
    "ax.set_title ( \"Wind speed @ 10m\" )"
   ]
  },
  {
   "cell_type": "markdown",
   "id": "c05bf775-a889-4ac2-9b53-ac56d8fe58d5",
   "metadata": {},
   "source": [
    "### Orthographic"
   ]
  },
  {
   "cell_type": "code",
   "execution_count": null,
   "id": "1ff9c393-ac48-49e4-a63a-c705d16bba95",
   "metadata": {},
   "outputs": [],
   "source": [
    "# Describe the model projection in the file\n",
    "ProjIn = ccrs.PlateCarree ( central_longitude=0) \n",
    "\n",
    "# Projection for plots\n",
    "ProjPlot = ccrs.Orthographic (central_latitude=-90, central_longitude=0) # Plotted projection\n",
    "\n",
    "# Creates the figure\n",
    "fig, ax = plt.subplots ( figsize=(15,6), subplot_kw={'projection':ProjPlot}, layout='constrained' )\n",
    "\n",
    "ux = u10m.isel(time_counter=0)\n",
    "vy = v10m.isel(time_counter=0)\n",
    "uv = wind10m.isel(time_counter=0)\n",
    "\n",
    "# Select data\n",
    "ux, xx, yy = lmdz.add_cyclic ( u10m.isel(time_counter=0), lon, lat)\n",
    "vy, xx, yy = lmdz.add_cyclic ( v10m.isel(time_counter=0), lon, lat)\n",
    "uv, xx, yy = lmdz.add_cyclic ( wind10m.isel(time_counter=0), lon, lat)\n",
    "\n",
    "# Correct a Cartopy bug in Orthographic projection. See help(lmdz.correct_uv) for details\n",
    "ux, vy = lmdz.correct_uv (ux, vy, xx, yy)\n",
    "\n",
    "# Plot vectors\n",
    "mver = ax.quiver (xx.values, yy.values, ux.values, vy.values, uv.values,\n",
    "                  pivot='tail', scale=100, width=3E-3, transform=ProjIn )\n",
    "\n",
    "ax.quiverkey (mver, X=0.12, Y=0.03, U=10, label=r'10 m$\\cdot$s$^{-1}$', labelpos='E', \n",
    "              linewidth=2, color='red')\n",
    "\n",
    "# Set plot limits \n",
    "width = 0.6 ; ax.set_xlim (-lmdz.RA*width, lmdz.RA*width) ; ax.set_ylim (-lmdz.RA*width, lmdz.RA*width)\n",
    "\n",
    "# Beautify\n",
    "ax.coastlines ()\n",
    "ax.add_feature (cartopy.feature.LAND, alpha=0.4)\n",
    "ax.gridlines (draw_labels=True, crs=ProjIn,)\n",
    "\n",
    "# Color palette\n",
    "plt.colorbar (mver, ax=ax, label=r\"$m \\cdot s^{-1}$\" )\n",
    "\n",
    "ax.set_title ( \"Wind speed @ 10m\" )"
   ]
  },
  {
   "cell_type": "markdown",
   "id": "4bd8f364-7c1f-4484-8c90-2ad251ce34d3",
   "metadata": {},
   "source": [
    "## Zonal mean"
   ]
  },
  {
   "cell_type": "code",
   "execution_count": null,
   "id": "401d90dd-f9f9-470a-880b-22690f5050f5",
   "metadata": {},
   "outputs": [],
   "source": [
    "# Creates the color palette\n",
    "levels = mpl.ticker.MaxNLocator (nbins=17).tick_values (-0.040, 0.040)\n",
    "palet  = mpl.cm.viridis\n",
    "colors = palet (np.linspace (0, 1, len(levels)+1))\n",
    "cmap   = mpl.colors.ListedColormap(colors)\n",
    "cmap.set_bad ('grey')\n",
    "norm   = mpl.colors.BoundaryNorm (levels, ncolors=cmap.N+1, clip=False, extend='both')\n",
    "\n",
    "# Creates the figure\n",
    "fig = plt.figure (figsize=(15,6))\n",
    "\n",
    "# Creates the viewport\n",
    "ax = fig.add_subplot (1, 1, 1)\n",
    "\n",
    "# Select data\n",
    "vy, xx, yy = lmdz.add_cyclic ( vitv.isel(time_counter=0), lon, lat)\n",
    "wz, xx, yy = lmdz.add_cyclic ( vitw.isel(time_counter=0), lon, lat)\n",
    "tt, xx, yy = lmdz.add_cyclic ( temp.isel(time_counter=0), lon, lat)\n",
    "pp, xx, yy = lmdz.add_cyclic ( pres.isel(time_counter=0), lon, lat)\n",
    "rr, xx, yy = lmdz.add_cyclic ( rhum.isel(time_counter=0), lon, lat)\n",
    "\n",
    "\n",
    "# Interpolate data\n",
    "vyp = lmdz.interp1d (x=std_lev, xp=pp, yp=vy, zdim='presnivs', method='linear'  )\n",
    "wzp = lmdz.interp1d (x=std_lev, xp=pp, yp=wz, zdim='presnivs', method='linear'  )\n",
    "ttp = lmdz.interp1d (x=std_lev, xp=pp, yp=tt, zdim='presnivs', method='linear'  )\n",
    "rrp = lmdz.interp1d (x=std_lev, xp=pp, yp=rr, zdim='presnivs', method='linear'  )\n",
    "\n",
    "# Zonal mean\n",
    "vyp_m = vyp.mean (dim=['lon'])\n",
    "wzp_m = wzp.mean (dim=['lon'])\n",
    "ttp_m = ttp.mean (dim=['lon'])\n",
    "rrp_m = rrp.mean (dim=['lon'])\n",
    "pp_m  = pp.mean  (dim=['lon'])\n",
    "rr_m  = rr.mean  (dim=['lon'])\n",
    "\n",
    "\n",
    "# Computes scale factors to get correct direction of vectors\n",
    "ax.set_ylim (1000,0) ; ax.set_xlim (-90, 90)\n",
    "xmin,xmax=ax.get_xlim() ; ymin,ymax=ax.get_ylim()\n",
    "delta_Y = ax.get_window_extent().height\n",
    "delta_X = ax.get_window_extent().width\n",
    "fact_v  = delta_X / np.abs(xmax-xmin) / ( Ra*np.pi/180. )\n",
    "fact_w  = delta_Y / np.abs(ymax-ymin)\n",
    "\n",
    "# Plot vectors\n",
    "aa, bb = np.meshgrid (yy, std_lev/100)\n",
    "mver = ax.quiver (aa, bb, vyp_m, -wzp_m*fact_w/fact_v/100, rrp_m*100,\n",
    "                  pivot='tip', scale=150, width=3E-3)\n",
    "\n",
    "ax.invert_yaxis()\n",
    "ax.xaxis.set_major_formatter(cartopy.mpl.ticker.LatitudeFormatter(number_format='.0f'))\n",
    "ax.set_xlabel (\"Latitude\") ; ax.set_ylabel (\"Pressure\")\n",
    "\n",
    "plt.colorbar (mver, label=\"%\", ax=ax)\n",
    "\n",
    "ax.set_title ( \"LMDZ Zonal mean of velocity, colored by relative humidity\" )"
   ]
  },
  {
   "cell_type": "markdown",
   "id": "8b96eeb4-63a9-4af4-8fbb-11f740ffd4df",
   "metadata": {},
   "source": [
    "## Equatorial section"
   ]
  },
  {
   "cell_type": "code",
   "execution_count": null,
   "id": "d7ddf6d8-69b6-44dc-8eec-efe3a50fdee7",
   "metadata": {},
   "outputs": [],
   "source": [
    "# Creates the color palette\n",
    "levels = mpl.ticker.MaxNLocator (nbins=17).tick_values (-0.040, 0.040)\n",
    "palet  = mpl.cm.viridis\n",
    "colors = palet (np.linspace (0, 1, len(levels)+1))\n",
    "cmap   = mpl.colors.ListedColormap(colors)\n",
    "cmap.set_bad ('grey')\n",
    "norm   = mpl.colors.BoundaryNorm (levels, ncolors=cmap.N+1, clip=False, extend='both')\n",
    "\n",
    "# Creates the figure\n",
    "fig = plt.figure (figsize=(15,6))\n",
    "\n",
    "# Creates the viewport\n",
    "ax = fig.add_subplot (1, 1, 1)\n",
    "\n",
    "# Select data\n",
    "ux, xx, yy = lmdz.add_cyclic ( vitv.isel(time_counter=0).sel(lat=0), lon, lat)\n",
    "wz, xx, yy = lmdz.add_cyclic ( vitw.isel(time_counter=0).sel(lat=0), lon, lat)\n",
    "tt, xx, yy = lmdz.add_cyclic ( temp.isel(time_counter=0).sel(lat=0), lon, lat)\n",
    "pp, xx, yy = lmdz.add_cyclic ( pres.isel(time_counter=0).sel(lat=0), lon, lat)\n",
    "\n",
    "# Interpolate data\n",
    "uxp = lmdz.interp1d (x=std_lev, xp=pp, yp=ux, zdim='presnivs', method='linear'  )\n",
    "wzp = lmdz.interp1d (x=std_lev, xp=pp, yp=wz, zdim='presnivs', method='linear'  )\n",
    "ttp = lmdz.interp1d (x=std_lev, xp=pp, yp=tt, zdim='presnivs', method='linear'  )\n",
    "\n",
    "# Computes scale factors to get correct direction of vectors\n",
    "ax.set_ylim (1000,0) ; ax.set_xlim (-180, 180)\n",
    "xmin,xmax=ax.get_xlim() ; ymin,ymax=ax.get_ylim()\n",
    "delta_Y = ax.get_window_extent().height\n",
    "delta_X = ax.get_window_extent().width\n",
    "fact_u  = delta_X / np.abs(xmax-xmin) / ( Ra*np.pi/180. )\n",
    "fact_w  = delta_Y / np.abs(ymax-ymin)\n",
    "\n",
    "# Plot vectors\n",
    "aa, bb = np.meshgrid (xx, std_lev/100)\n",
    "mver = ax.quiver (aa, bb, uxp, -(wzp*fact_w/fact_u)/100, ttp,\n",
    "                  pivot='tip', scale=200, width=3E-3)\n",
    "\n",
    "ax.quiverkey (mver, X=0.07, Y=0.03, U=10, label=r'10 m$\\cdot$s$^{-1}$', labelpos='E', \n",
    "              linewidth=2, color='red')\n",
    "\n",
    "ax.invert_yaxis()\n",
    "ax.xaxis.set_major_formatter(cartopy.mpl.ticker.LongitudeFormatter(number_format='.0f'))\n",
    "ax.set_xlabel (\"Longitude\") ; ax.set_ylabel (\"Pressure\")\n",
    "\n",
    "plt.colorbar (mver, label=\"°C\")\n",
    "\n",
    "ax.set_title ( \"LMDZ wind along equator, colored by temperature\")"
   ]
  },
  {
   "cell_type": "markdown",
   "id": "7f7013f1-c861-4137-b750-5e0e82afd6b4",
   "metadata": {},
   "source": [
    "# Streamlines"
   ]
  },
  {
   "cell_type": "markdown",
   "id": "d27a84a7-bf28-4775-a30e-863b19d39d4b",
   "metadata": {},
   "source": [
    "## Robinson"
   ]
  },
  {
   "cell_type": "code",
   "execution_count": null,
   "id": "73fd4480-3c06-4396-9f1d-21827ec9c5bd",
   "metadata": {},
   "outputs": [],
   "source": [
    "# Creates the color palette\n",
    "levels = mpl.ticker.MaxNLocator (nbins=17).tick_values (0, 1)\n",
    "palet  = mpl.cm.RdYlGn_r\n",
    "colors = palet (np.linspace (0, 1, len(levels)+1))\n",
    "cmap   = mpl.colors.ListedColormap(colors)\n",
    "cmap.set_bad ('grey')\n",
    "norm   = mpl.colors.BoundaryNorm (levels, ncolors=cmap.N+1, clip=False, extend='both')\n",
    "# Describe the model projection in the file\n",
    "ProjIn   = ccrs.PlateCarree (central_longitude=0)\n",
    "\n",
    "# Projection for plots\n",
    "ProjPlot = ccrs.Robinson (central_longitude=270)\n",
    "\n",
    "# Define the figure\n",
    "fig = plt.figure(figsize=(15,6))\n",
    "ax = fig.add_subplot (1, 1, 1, projection=ProjPlot)\n",
    "\n",
    "# Select data\n",
    "ux, xx, yy = lmdz.add_cyclic ( u10m.isel(time_counter=0), lon, lat)\n",
    "vy, xx, yy = lmdz.add_cyclic ( v10m.isel(time_counter=0), lon, lat)\n",
    "uv, xx, yy = lmdz.add_cyclic ( wind10m.isel(time_counter=0), lon, lat)\n",
    "tt, xx, yy = lmdz.add_cyclic ( t2m.isel(time_counter=0), lon, lat)\n",
    "qq, xx, yy = lmdz.add_cyclic ( q2m.isel(time_counter=0), lon, lat)\n",
    "\n",
    "\n",
    "# Plot the stream lines\n",
    "col = ax.streamplot ( xx.values, yy.values, ux.values, vy.values,\n",
    "                     transform=ProjIn, density=4, color=qq.values*100,\n",
    "                     linewidth=uv.values*0.3,\n",
    "                     cmap=cmap, norm=norm)\n",
    "\n",
    "# Beautify\n",
    "ax.set_global ()\n",
    "ax.coastlines ()\n",
    "ax.gridlines  (draw_labels=True, crs=ProjIn)\n",
    "ax.add_feature (cartopy.feature.LAND, zorder=0)\n",
    "\n",
    "# Colorbar\n",
    "plt.colorbar (col.lines, orientation='vertical', ax=fig.axes, label='%', shrink=0.7)\n",
    "\n",
    "ax.set_title ( \"LMDZ wind, colored by relative humidity\" )"
   ]
  },
  {
   "cell_type": "markdown",
   "id": "3b5ae6de-4c45-4218-9265-ae9ad70a4b98",
   "metadata": {},
   "source": [
    "## Orthographic"
   ]
  },
  {
   "cell_type": "code",
   "execution_count": null,
   "id": "de73409b-a7f2-4164-8cec-bd4c7b560b6d",
   "metadata": {
    "jupyter": {
     "source_hidden": true
    }
   },
   "outputs": [],
   "source": [
    "# Creates the color palette\n",
    "levels = mpl.ticker.MaxNLocator (nbins=33).tick_values (-20, 30)\n",
    "palet  = mpl.cm.hot_r\n",
    "colors = palet (np.linspace (0, 1, len(levels)+1))\n",
    "cmap   = mpl.colors.ListedColormap(colors)\n",
    "cmap.set_bad ('grey')\n",
    "norm   = mpl.colors.BoundaryNorm (levels, ncolors=cmap.N+1, clip=False, extend='both')\n",
    "\n",
    "# Describe the model projection in the file\n",
    "ProjIn   = ccrs.PlateCarree (central_longitude=0)\n",
    "\n",
    "# Projection for plots\n",
    "ProjPlot = ccrs.Orthographic (central_latitude=-70, central_longitude=270)\n",
    "\n",
    "# Create the figure\n",
    "fig = plt.figure(figsize=(15,7))\n",
    "ax = fig.add_subplot (1, 1, 1, projection=ProjPlot)\n",
    "\n",
    "# Select data\n",
    "ux, xx, yy = lmdz.add_cyclic ( u10m.isel(time_counter=0)   , lon, lat)\n",
    "vy, xx, yy = lmdz.add_cyclic ( v10m.isel(time_counter=0)   , lon, lat)\n",
    "uv, xx, yy = lmdz.add_cyclic ( wind10m.isel(time_counter=0), lon, lat)\n",
    "tt, xx, yy = lmdz.add_cyclic ( t2m.isel(time_counter=0)    , lon, lat)\n",
    "\n",
    "yy, xx = xr.broadcast (yy, xx)\n",
    "\n",
    "# Correct a Cartopy bug in Orthographic projection. See help(lmdz.correct_uv) for details\n",
    "ux, vy = lmdz.correct_uv ( ux, vy, xx, yy)\n",
    "\n",
    "# Streamplot in orthographic needs to have limits on region\n",
    "jmin=60 ; jmax=lat.shape[0]\n",
    "\n",
    "col = ax.streamplot (xx[jmin:jmax].values, yy[jmin:jmax].values, \n",
    "                     ux[jmin:jmax].values, vy[jmin:jmax].values,\n",
    "                     transform=ProjIn, density=2, cmap=cmap, norm=norm,\n",
    "                     color    = tt[jmin:jmax].values,\n",
    "                     linewidth=uv[jmin:jmax].values*0.4, arrowsize=2)\n",
    "\n",
    "# Set plot limits \n",
    "width = 1; ax.set_xlim (-Ra*width, Ra*width) ; ax.set_ylim (-Ra*width, Ra*width)\n",
    "\n",
    "# Beautify\n",
    "ax.coastlines ()\n",
    "ax.gridlines  (draw_labels=True, crs=ProjIn)\n",
    "ax.add_feature (cartopy.feature.LAND, zorder=0)\n",
    "\n",
    "plt.colorbar (col.lines, orientation='vertical', ax=fig.axes, label='°C', shrink=0.7)\n",
    "\n",
    "ax.set_title ( \"LMDZ wind, colored by temperature\", fontsize=\"small\" )"
   ]
  },
  {
   "cell_type": "markdown",
   "id": "788396a8-3a99-4b76-966b-c48c17d751c7",
   "metadata": {},
   "source": [
    "## Zonal mean"
   ]
  },
  {
   "cell_type": "code",
   "execution_count": null,
   "id": "f1c0ea1d-689b-4871-8136-649ac421d872",
   "metadata": {},
   "outputs": [],
   "source": [
    "# Creates the color palette\n",
    "levels = mpl.ticker.MaxNLocator (nbins=17).tick_values (0, 60)\n",
    "palet  = mpl.cm.hsv\n",
    "colors = palet (np.linspace (0, 1, len(levels)+1))\n",
    "cmap   = mpl.colors.ListedColormap(colors)\n",
    "cmap.set_bad ('grey')\n",
    "norm   = mpl.colors.BoundaryNorm (levels, ncolors=cmap.N+1, clip=False, extend='both')\n",
    "\n",
    "# Creates the figure\n",
    "fig = plt.figure (figsize=(15,6))\n",
    "\n",
    "# Creates the viewport\n",
    "ax = fig.add_subplot (1, 1, 1)\n",
    "\n",
    "# Select data\n",
    "vy, xx, yy = lmdz.add_cyclic ( vitv.isel(time_counter=0), lon, lat)\n",
    "wz, xx, yy = lmdz.add_cyclic ( vitw.isel(time_counter=0), lon, lat)\n",
    "tt, xx, yy = lmdz.add_cyclic ( temp.isel(time_counter=0), lon, lat)\n",
    "rr, xx, yy = lmdz.add_cyclic ( rhum.isel(time_counter=0), lon, lat)\n",
    "pp, xx, yy = lmdz.add_cyclic ( pres.isel(time_counter=0), lon, lat)\n",
    "\n",
    "# Interpolate data on regular pressure lev\n",
    "reg_lev = np.linspace ( 0, 1000, 100) * 100\n",
    "reg_lev = xr.DataArray ( reg_lev, dims=('pressure'), coords=(reg_lev,))\n",
    "vyp = lmdz.interp1d (x=reg_lev, xp=pp, yp=vy, zdim='presnivs', method='linear'  )\n",
    "wzp = lmdz.interp1d (x=reg_lev, xp=pp, yp=wz, zdim='presnivs', method='linear'  )\n",
    "ttp = lmdz.interp1d (x=reg_lev, xp=pp, yp=tt, zdim='presnivs', method='linear'  )\n",
    "rrp = lmdz.interp1d (x=reg_lev, xp=pp, yp=rr, zdim='presnivs', method='linear'  )\n",
    "\n",
    "# Zonal mean\n",
    "vyp_m = vyp.mean (dim=['lon'])\n",
    "wzp_m = wzp.mean (dim=['lon'])\n",
    "ttp_m = ttp.mean (dim=['lon'])\n",
    "rrp_m = rrp.mean (dim=['lon'])\n",
    "pp_m  = pp.mean  (dim=['lon'])\n",
    "\n",
    "# Revert latitudes\n",
    "yy = yy[::-1]\n",
    "vyp_m = vyp_m [:, ::-1]\n",
    "wzp_m = wzp_m [:, ::-1]\n",
    "ttp_m = ttp_m [:, ::-1]\n",
    "\n",
    "# Computes scale factors to get correct direction of vectors\n",
    "ax.set_ylim (1000,0) ; ax.set_xlim (-90, 90)\n",
    "xmin,xmax=ax.get_xlim() ; ymin,ymax=ax.get_ylim()\n",
    "delta_Y = ax.get_window_extent().height\n",
    "delta_X = ax.get_window_extent().width\n",
    "fact_v  = delta_X / np.abs(xmax-xmin) / ( Ra*np.pi/180. )\n",
    "fact_w  = delta_Y / np.abs(ymax-ymin)\n",
    "\n",
    "# Plot vectors\n",
    "aa, bb = np.meshgrid (yy, reg_lev/100)\n",
    "\n",
    "mcol = ax.streamplot (aa, bb, vyp_m.values, (-wzp_m*fact_w/fact_v/100).values,\n",
    "                      density=3, color=rrp_m.values*100, cmap=cmap, norm=norm,\n",
    "                      linewidth=1, arrowsize=1)\n",
    "\n",
    "ax.xaxis.set_major_formatter(cartopy.mpl.ticker.LatitudeFormatter(number_format='.0f'))\n",
    "ax.set_xlabel (\"Latitude\") ; ax.set_ylabel (\"Pressure (hPa)\")\n",
    "\n",
    "plt.colorbar (mcol.lines, label=\"°%\")\n",
    "\n",
    "ax.set_title ( \"LMDZ wind, colored by relative humidty\" )"
   ]
  },
  {
   "cell_type": "markdown",
   "id": "a2c07525-9678-440f-9c35-5733db43fb00",
   "metadata": {},
   "source": [
    "## Equatorial section"
   ]
  },
  {
   "cell_type": "code",
   "execution_count": null,
   "id": "0ddcbef2-3e51-487a-844f-083937acda70",
   "metadata": {},
   "outputs": [],
   "source": [
    "# Creates the color palette\n",
    "levels = mpl.ticker.MaxNLocator (nbins=17).tick_values (-40, 40)\n",
    "palet  = mpl.cm.spring_r\n",
    "colors = palet (np.linspace (0, 1, len(levels)+1))\n",
    "cmap   = mpl.colors.ListedColormap(colors)\n",
    "cmap.set_bad ('grey')\n",
    "norm   = mpl.colors.BoundaryNorm (levels, ncolors=cmap.N+1, clip=False, extend='both')\n",
    "\n",
    "# Creates the figure\n",
    "fig = plt.figure (figsize=(15,6))\n",
    "\n",
    "# Creates the viewport\n",
    "ax = fig.add_subplot (1, 1, 1)\n",
    "\n",
    "# Select data\n",
    "ux, xx, yy = lmdz.add_cyclic ( vitu.isel(time_counter=0).sel(lat=0), lon, lat)\n",
    "wz, xx, yy = lmdz.add_cyclic ( vitw.isel(time_counter=0).sel(lat=0), lon, lat)\n",
    "tt, xx, yy = lmdz.add_cyclic ( temp.isel(time_counter=0).sel(lat=0), lon, lat)\n",
    "pp, xx, yy = lmdz.add_cyclic ( pres.isel(time_counter=0).sel(lat=0), lon, lat)\n",
    "\n",
    "# Interpolate data on regular pressure lev\n",
    "reg_lev = np.linspace ( 0, 1000, 100) * 100\n",
    "reg_lev = xr.DataArray ( reg_lev, dims=('pressure'), coords=(reg_lev,))\n",
    "uxp = lmdz.interp1d (x=reg_lev, xp=pp, yp=ux, zdim='presnivs', method='linear'  )\n",
    "wzp = lmdz.interp1d (x=reg_lev, xp=pp, yp=wz, zdim='presnivs', method='linear'  )\n",
    "ttp = lmdz.interp1d (x=reg_lev, xp=pp, yp=tt, zdim='presnivs', method='linear'  )\n",
    "\n",
    "# Computes scale factors to get correct direction of vectors\n",
    "ax.set_ylim (1000,0) ; ax.set_xlim (-180, 180)\n",
    "xmin,xmax=ax.get_xlim() ; ymin,ymax=ax.get_ylim()\n",
    "delta_Y = ax.get_window_extent().height\n",
    "delta_X = ax.get_window_extent().width\n",
    "fact_v  = delta_X / np.abs(xmax-xmin) / ( Ra*np.pi/180. )\n",
    "fact_w  = delta_Y / np.abs(ymax-ymin)\n",
    "\n",
    "# Plot vectors\n",
    "aa, bb = np.meshgrid (xx, reg_lev/100)\n",
    "\n",
    "mcol = ax.streamplot (aa, bb, uxp.values, (-wzp*fact_w/fact_v/100).values,\n",
    "                     density=3, color = ttp.values, \n",
    "                     linewidth=2, arrowsize=1,\n",
    "                     cmap=cmap, norm=norm)\n",
    "\n",
    "ax.xaxis.set_major_formatter(cartopy.mpl.ticker.LongitudeFormatter (number_format='.0f'))\n",
    "ax.set_xlabel (\"Longitude\") ; ax.set_ylabel (\"Pressure (hPa)\")\n",
    "\n",
    "plt.colorbar (mcol.lines, label=\"°C\", ax=ax)\n",
    "\n",
    "ax.set_title ( \"LMDZ wind, colored by temperature\" )"
   ]
  },
  {
   "cell_type": "code",
   "execution_count": null,
   "id": "8f6a2a97-e975-45ce-861f-c1018e604e19",
   "metadata": {
    "jupyter": {
     "source_hidden": true
    }
   },
   "outputs": [],
   "source": [
    "import requests\n",
    "from IPython.display import Image\n",
    "\n",
    "Bunny = GetLogo (\"https://substackcdn.com/image/fetch/w_1456,c_limit,f_webp,q_auto:good,fl_progressive:steep/https%3A%2F%2Fbucketeer-e05bbc84-baa3-437e-9518-adb32be77984.s3.amazonaws.com%2Fpublic%2Fimages%2F2f95d3fe-13e7-4220-84b1-9c12d760f233_950x535.jpeg\"\n",
    ", 'Bugs_Bunny.jpeg')\n",
    "\n",
    "Image (filename='Bugs_Bunny.jpeg', width=600)"
   ]
  },
  {
   "cell_type": "code",
   "execution_count": null,
   "id": "57ad627e-71c9-4f1d-82b4-a0ab9af6ea67",
   "metadata": {
    "jupyter": {
     "source_hidden": true
    }
   },
   "outputs": [],
   "source": []
  },
  {
   "cell_type": "code",
   "execution_count": null,
   "id": "758d69c1-643b-4a47-96ad-1f2a5d8a1cd1",
   "metadata": {},
   "outputs": [],
   "source": []
  }
 ],
 "metadata": {
  "kernelspec": {
   "display_name": "Python 3.12 (PROD)",
   "language": "python",
   "name": "prod"
  },
  "language_info": {
   "codemirror_mode": {
    "name": "ipython",
    "version": 3
   },
   "file_extension": ".py",
   "mimetype": "text/x-python",
   "name": "python",
   "nbconvert_exporter": "python",
   "pygments_lexer": "ipython3",
   "version": "3.12.4"
  }
 },
 "nbformat": 4,
 "nbformat_minor": 5
}
