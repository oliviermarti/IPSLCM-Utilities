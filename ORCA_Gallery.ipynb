{
 "cells": [
  {
   "cell_type": "markdown",
   "metadata": {
    "slideshow": {
     "slide_type": "slide"
    },
    "tags": []
   },
   "source": [
    "# Plotting ORCA outputs with cartopy and matplotlib\n",
    "\n",
    "A gallery of plots with the curvilinear ORCA Grid"
   ]
  },
  {
   "cell_type": "markdown",
   "metadata": {
    "tags": []
   },
   "source": [
    "# Stuff"
   ]
  },
  {
   "cell_type": "markdown",
   "metadata": {
    "tags": []
   },
   "source": [
    "## Licence\n",
    "\n",
    "This software is governed by the [CeCILL license](http://www.cecill.info) license under French law and abiding by the rules of distribution of free software. You can use, modify and/ or redistribute the software under the terms of the [CeCILL license](http://www.cecill.info) as circulated by CEA, CNRS and INRIA.\n",
    "\n",
    "Warning, to install, configure, run, use any of Olivier Marti's software or to read the associated documentation you'll need at least one (1) brain in a reasonably working order. Lack of this implement will void any warranties (either express or implied). O. Marti assumes no responsability for errors, omissions, data loss, or any other consequences caused directly or indirectly by the usage of his software by incorrectly or partially configured personal.\n"
   ]
  },
  {
   "cell_type": "markdown",
   "metadata": {},
   "source": [
    "## Contact\n",
    "mailto:olivier.marti@lsce.ipsl.fr"
   ]
  },
  {
   "cell_type": "markdown",
   "metadata": {},
   "source": [
    "### SVN Information"
   ]
  },
  {
   "cell_type": "code",
   "execution_count": 1,
   "metadata": {},
   "outputs": [],
   "source": [
    "SVN = { 'Author' : \"$Author: $\", 'Date' : \"$Date: $\", 'Revision': \"$Revision: $\",\n",
    "        'Id' : \"$Id:  $\", 'HeadURL' : \"$HeadUrl: $\" }"
   ]
  },
  {
   "cell_type": "markdown",
   "metadata": {
    "tags": []
   },
   "source": [
    "# Initialize"
   ]
  },
  {
   "cell_type": "markdown",
   "metadata": {
    "slideshow": {
     "slide_type": "slide"
    }
   },
   "source": [
    "## Needed python modules"
   ]
  },
  {
   "cell_type": "markdown",
   "metadata": {},
   "source": [
    "### 'Classic' modules"
   ]
  },
  {
   "cell_type": "code",
   "execution_count": 2,
   "metadata": {
    "slideshow": {
     "slide_type": "subslide"
    },
    "tags": []
   },
   "outputs": [],
   "source": [
    "import numpy as np, xarray as xr\n",
    "import matplotlib.pyplot as plt, matplotlib as mpl\n",
    "import cartopy.mpl.ticker, cartopy.crs as ccrs, cartopy\n",
    "import importlib, sys, os, pathlib\n",
    "from pathlib import Path"
   ]
  },
  {
   "cell_type": "markdown",
   "metadata": {},
   "source": [
    "### Specific module to simplify access to IPSL model outputs"
   ]
  },
  {
   "cell_type": "code",
   "execution_count": 3,
   "metadata": {
    "slideshow": {
     "slide_type": "subslide"
    },
    "tags": []
   },
   "outputs": [],
   "source": [
    "import libIGCM_sys\n",
    "rad = np.deg2rad (1.0)\n",
    "Mach = libIGCM_sys.Mach()"
   ]
  },
  {
   "cell_type": "markdown",
   "metadata": {},
   "source": [
    "### Module versions"
   ]
  },
  {
   "cell_type": "code",
   "execution_count": 4,
   "metadata": {
    "slideshow": {
     "slide_type": "subslide"
    },
    "tags": []
   },
   "outputs": [
    {
     "name": "stdout",
     "output_type": "stream",
     "text": [
      "Machine            :  Spip\n",
      "Version python     :  3.10.12 | packaged by conda-forge | (main, Jun 23 2023, 22:39:40) [Clang 15.0.7 ]\n",
      "Version numpy      :  1.24.4\n",
      "Version xarray     :  2023.9.0\n",
      "Version Matplotlib :  3.8.0\n",
      "Version Cartopy    :  0.22.0\n"
     ]
    }
   ],
   "source": [
    "print ( 'Machine            : ', Mach                )\n",
    "print ( 'Version python     : ', sys.version         )\n",
    "print ( 'Version numpy      : ', np.__version__      )\n",
    "print ( 'Version xarray     : ', xr.__version__      )\n",
    "print ( 'Version Matplotlib : ', mpl.__version__     )\n",
    "print ( 'Version Cartopy    : ', cartopy.__version__ )"
   ]
  },
  {
   "cell_type": "markdown",
   "metadata": {
    "slideshow": {
     "slide_type": "slide"
    },
    "tags": []
   },
   "source": [
    "## A specific module to handle ORCA grid particularisms\n",
    "\n",
    "Use `help(nemo)` to get some details"
   ]
  },
  {
   "cell_type": "code",
   "execution_count": 5,
   "metadata": {
    "slideshow": {
     "slide_type": "subslide"
    },
    "tags": []
   },
   "outputs": [],
   "source": [
    "import nemo"
   ]
  },
  {
   "cell_type": "markdown",
   "metadata": {
    "slideshow": {
     "slide_type": "skip"
    },
    "tags": []
   },
   "source": [
    "## Earth Radius"
   ]
  },
  {
   "cell_type": "code",
   "execution_count": 6,
   "metadata": {
    "slideshow": {
     "slide_type": "skip"
    },
    "tags": []
   },
   "outputs": [],
   "source": [
    "Ra = nemo.RA"
   ]
  },
  {
   "cell_type": "markdown",
   "metadata": {
    "tags": []
   },
   "source": [
    "# Read and prepare data"
   ]
  },
  {
   "cell_type": "markdown",
   "metadata": {
    "slideshow": {
     "slide_type": "slide"
    },
    "tags": []
   },
   "source": [
    "## Using ORCA1 or ORCA2\n",
    "\n",
    "Use only one of the following cells, and comment the others (switch them to `Raw Text` to make them inactive)"
   ]
  },
  {
   "cell_type": "raw",
   "metadata": {
    "slideshow": {
     "slide_type": "skip"
    },
    "tags": []
   },
   "source": [
    "Oname = \"orca2\" ; nperio = 4\n",
    "\n",
    "mm = libIGCM_sys.config ( JobName='TR5AS-Vlr01', TagName='IPSLCM5A2', ExperimentName='Holocene', SpaceName='PROD',\n",
    "                          #Source = 'TGCC_thredds', TGCC_Group='gen2212', TGCC_User='p86mart',\n",
    "                        Out='Dict' )\n",
    "globals().update (mm)\n",
    "\n",
    "Dir    = f'{R_SAVE}/OCE/Analyse/SE'\n",
    "Period = 'SE_2000_2099_1M'\n",
    "time_sel = { 'time_counter':slice (0, 2) }"
   ]
  },
  {
   "cell_type": "raw",
   "metadata": {
    "slideshow": {
     "slide_type": "skip"
    },
    "tags": []
   },
   "source": [
    "Oname = \"eORCA1.2\" ; nperio = 6\n",
    "\n",
    "mm = libIGCM_sys.config ( JobName='IPSLCM6.2-ECS-LR-W3-181', TagName='IPSLCM6', ExperimentName='piControl', SpaceName='PROD',\n",
    "                          #Source='TGCC_thredds', TGCC_User='p86caub', TGCC_Group='gencmip6', \n",
    "                          Out='Dict' )\n",
    "globals().update (mm)\n",
    "\n",
    "Dir    = os.path.join ( R_SAVE, 'OCE', 'Analyse', 'SE' )\n",
    "Period = 'SE_2090_2099_1M'\n",
    "time_sel = { 'time_counter':slice (0, 2) }"
   ]
  },
  {
   "cell_type": "code",
   "execution_count": 7,
   "metadata": {},
   "outputs": [],
   "source": [
    "# Test ORCA1.4.2\n",
    "Oname = \"eORCA1.4\" ; nperio = 6.2\n",
    "\n",
    "mm = libIGCM_sys.config ( JobName='CM65v420-LR-SKL-pi-05', TagName='IPSLCM6', ExperimentName='piControl', SpaceName='DEVT',\n",
    "                          #Source='TGCC_thredds', TGCC_User='p86caub', TGCC_Group='gencmip6', \n",
    "                          Out='Dict' )\n",
    "globals().update (mm)\n",
    "\n",
    "Dir    = os.path.join ( R_SAVE, 'OCE', 'Output', 'MO' )\n",
    "Period = '23300101_23391231_1M'\n",
    "time_sel = { 'time_counter':slice (0, 2) }"
   ]
  },
  {
   "cell_type": "markdown",
   "metadata": {},
   "source": [
    "## Defines files names"
   ]
  },
  {
   "cell_type": "code",
   "execution_count": 8,
   "metadata": {
    "slideshow": {
     "slide_type": "skip"
    },
    "tags": []
   },
   "outputs": [
    {
     "name": "stdout",
     "output_type": "stream",
     "text": [
      "f_g = '/Users/marti/GRAF/DATA/eORCA1.4.2_mesh_mask.nc'\n",
      "f_b = '/Users/marti/GRAF/DATA/eORCA1.4.2_subbasins.nc'\n",
      "f_c = '/Users/marti/GRAF/DATA/eorca1.4.2_coastline.nc'\n",
      "f_T = '/Users/marti/Data/IGCM_OUT/IPSLCM6/DEVT/piControl/CM65v420-LR-SKL-pi-05/OCE/Output/MO/CM65v420-LR-SKL-pi-05_23300101_23391231_1M_grid_T.nc'\n",
      "f_U = '/Users/marti/Data/IGCM_OUT/IPSLCM6/DEVT/piControl/CM65v420-LR-SKL-pi-05/OCE/Output/MO/CM65v420-LR-SKL-pi-05_23300101_23391231_1M_grid_U.nc'\n",
      "f_V = '/Users/marti/Data/IGCM_OUT/IPSLCM6/DEVT/piControl/CM65v420-LR-SKL-pi-05/OCE/Output/MO/CM65v420-LR-SKL-pi-05_23300101_23391231_1M_grid_V.nc'\n",
      "f_W = '/Users/marti/Data/IGCM_OUT/IPSLCM6/DEVT/piControl/CM65v420-LR-SKL-pi-05/OCE/Output/MO/CM65v420-LR-SKL-pi-05_23300101_23391231_1M_grid_W.nc'\n"
     ]
    }
   ],
   "source": [
    "f_T = os.path.join ( Dir, f'{JobName}_{Period}_grid_T.nc' )\n",
    "f_U = os.path.join ( Dir, f'{JobName}_{Period}_grid_U.nc' )\n",
    "f_V = os.path.join ( Dir, f'{JobName}_{Period}_grid_V.nc' )\n",
    "f_W = os.path.join ( Dir, f'{JobName}_{Period}_grid_W.nc' )\n",
    "\n",
    "if Oname == \"orca2\" :\n",
    "    f_g = os.path.join ( R_GRAF, 'ORCA2.1_mesh_mask.nc' )\n",
    "    f_c = os.path.join ( R_GRAF, 'orca2.3_coastline.nc' )\n",
    "    f_b = os.path.join ( R_GRAF, 'ORCA2.3_subbasins.nc' )\n",
    "if Oname == \"eORCA1.2\" : \n",
    "    f_g = os.path.join ( R_GRAF, 'eORCA1.2_mesh_mask.nc' )\n",
    "    f_c = os.path.join ( R_GRAF, 'eorca1.2_coastline.nc' )\n",
    "    f_b = os.path.join ( R_GRAF, 'eORCA1.2_subbasins.nc' )\n",
    "if Oname == \"eORCA1.4\" : \n",
    "    f_g = os.path.join ( R_GRAF, 'eORCA1.4.2_mesh_mask.nc' )\n",
    "    f_c = os.path.join ( R_GRAF, 'eorca1.4.2_coastline.nc' )\n",
    "    f_b = os.path.join ( R_GRAF, 'eORCA1.4.2_subbasins.nc' )\n",
    "\n",
    "print ( f'{f_g = }' )\n",
    "print ( f'{f_b = }' )\n",
    "print ( f'{f_c = }' )\n",
    "print ( f'{f_T = }' )\n",
    "print ( f'{f_U = }' )\n",
    "print ( f'{f_V = }' )\n",
    "print ( f'{f_W = }' )"
   ]
  },
  {
   "cell_type": "markdown",
   "metadata": {
    "slideshow": {
     "slide_type": "slide"
    },
    "tags": []
   },
   "source": [
    "## Open files"
   ]
  },
  {
   "cell_type": "code",
   "execution_count": 9,
   "metadata": {
    "slideshow": {
     "slide_type": "subslide"
    },
    "tags": []
   },
   "outputs": [],
   "source": [
    "d_g =  xr.open_dataset (f_g, use_cftime=True, decode_times=False).squeeze ()\n",
    "d_c =  xr.open_dataset (f_c, use_cftime=True, decode_times=False).squeeze ()\n",
    "d_b =  xr.open_dataset (f_b, use_cftime=True, decode_times=False).squeeze ()\n",
    "\n",
    "tranche = slice (0, 2)\n",
    "d_T =  xr.open_dataset (f_T, use_cftime=True, decode_times=False)[time_sel]\n",
    "d_U =  xr.open_dataset (f_U, use_cftime=True, decode_times=False)[time_sel]\n",
    "d_V =  xr.open_dataset (f_V, use_cftime=True, decode_times=False)[time_sel]\n",
    "d_W =  xr.open_dataset (f_W, use_cftime=True, decode_times=False)[time_sel]"
   ]
  },
  {
   "cell_type": "markdown",
   "metadata": {},
   "source": [
    "### Use a fixed name for all dimensions to simplify the rest of the notebook\n",
    "Not depending of the dataset used, the model version, etc ..."
   ]
  },
  {
   "cell_type": "code",
   "execution_count": 10,
   "metadata": {},
   "outputs": [
    {
     "ename": "TypeError",
     "evalue": "unhashable type: 'dict'",
     "output_type": "error",
     "traceback": [
      "\u001b[0;31m---------------------------------------------------------------------------\u001b[0m",
      "\u001b[0;31mTypeError\u001b[0m                                 Traceback (most recent call last)",
      "\u001b[0;32m/var/folders/9g/5l6g_l6x1ybgdy3sx2drkm3w0000gp/T/ipykernel_13231/2141528552.py\u001b[0m in \u001b[0;36m?\u001b[0;34m()\u001b[0m\n\u001b[1;32m      1\u001b[0m \u001b[0mudims\u001b[0m \u001b[0;34m=\u001b[0m \u001b[0;34m{\u001b[0m \u001b[0;34m'x'\u001b[0m\u001b[0;34m:\u001b[0m\u001b[0;34m'x'\u001b[0m\u001b[0;34m,\u001b[0m \u001b[0;34m'y'\u001b[0m\u001b[0;34m:\u001b[0m\u001b[0;34m'y'\u001b[0m\u001b[0;34m,\u001b[0m \u001b[0;34m'z'\u001b[0m\u001b[0;34m:\u001b[0m\u001b[0;34m'olevel'\u001b[0m\u001b[0;34m,\u001b[0m \u001b[0;34m't'\u001b[0m\u001b[0;34m:\u001b[0m\u001b[0;34m'time_counter'\u001b[0m \u001b[0;34m}\u001b[0m\u001b[0;34m\u001b[0m\u001b[0;34m\u001b[0m\u001b[0m\n\u001b[1;32m      2\u001b[0m \u001b[0;34m\u001b[0m\u001b[0m\n\u001b[1;32m      3\u001b[0m \u001b[0md_T\u001b[0m \u001b[0;34m=\u001b[0m \u001b[0mnemo\u001b[0m\u001b[0;34m.\u001b[0m\u001b[0munify_dims\u001b[0m \u001b[0;34m(\u001b[0m\u001b[0md_T\u001b[0m\u001b[0;34m,\u001b[0m \u001b[0;34m**\u001b[0m\u001b[0mudims\u001b[0m\u001b[0;34m)\u001b[0m\u001b[0;34m\u001b[0m\u001b[0;34m\u001b[0m\u001b[0m\n\u001b[0;32m----> 4\u001b[0;31m \u001b[0md_U\u001b[0m \u001b[0;34m=\u001b[0m \u001b[0mnemo\u001b[0m\u001b[0;34m.\u001b[0m\u001b[0munify_dims\u001b[0m \u001b[0;34m(\u001b[0m\u001b[0md_U\u001b[0m\u001b[0;34m,\u001b[0m \u001b[0mudims\u001b[0m\u001b[0;34m)\u001b[0m\u001b[0;34m\u001b[0m\u001b[0;34m\u001b[0m\u001b[0m\n\u001b[0m\u001b[1;32m      5\u001b[0m \u001b[0md_V\u001b[0m \u001b[0;34m=\u001b[0m \u001b[0mnemo\u001b[0m\u001b[0;34m.\u001b[0m\u001b[0munify_dims\u001b[0m \u001b[0;34m(\u001b[0m\u001b[0md_V\u001b[0m\u001b[0;34m,\u001b[0m \u001b[0mudims\u001b[0m\u001b[0;34m)\u001b[0m\u001b[0;34m\u001b[0m\u001b[0;34m\u001b[0m\u001b[0m\n\u001b[1;32m      6\u001b[0m \u001b[0md_W\u001b[0m \u001b[0;34m=\u001b[0m \u001b[0mnemo\u001b[0m\u001b[0;34m.\u001b[0m\u001b[0munify_dims\u001b[0m \u001b[0;34m(\u001b[0m\u001b[0md_W\u001b[0m\u001b[0;34m,\u001b[0m \u001b[0mudims\u001b[0m\u001b[0;34m)\u001b[0m\u001b[0;34m\u001b[0m\u001b[0;34m\u001b[0m\u001b[0m\n\u001b[1;32m      7\u001b[0m \u001b[0md_g\u001b[0m \u001b[0;34m=\u001b[0m \u001b[0mnemo\u001b[0m\u001b[0;34m.\u001b[0m\u001b[0munify_dims\u001b[0m \u001b[0;34m(\u001b[0m\u001b[0md_g\u001b[0m\u001b[0;34m,\u001b[0m \u001b[0mudims\u001b[0m\u001b[0;34m)\u001b[0m\u001b[0;34m\u001b[0m\u001b[0;34m\u001b[0m\u001b[0m\n",
      "\u001b[0;32m~/Python/Library/nemo.py\u001b[0m in \u001b[0;36m?\u001b[0;34m(dd, x, y, z, t, verbose)\u001b[0m\n\u001b[1;32m    435\u001b[0m     \u001b[0;32mfor\u001b[0m \u001b[0mxx\u001b[0m \u001b[0;32min\u001b[0m \u001b[0mXNAME\u001b[0m \u001b[0;34m:\u001b[0m\u001b[0;34m\u001b[0m\u001b[0;34m\u001b[0m\u001b[0m\n\u001b[1;32m    436\u001b[0m         \u001b[0;32mif\u001b[0m \u001b[0mxx\u001b[0m \u001b[0;32min\u001b[0m \u001b[0mdd\u001b[0m\u001b[0;34m.\u001b[0m\u001b[0mdims\u001b[0m \u001b[0;32mand\u001b[0m \u001b[0mxx\u001b[0m \u001b[0;34m!=\u001b[0m \u001b[0mx\u001b[0m \u001b[0;34m:\u001b[0m\u001b[0;34m\u001b[0m\u001b[0;34m\u001b[0m\u001b[0m\n\u001b[1;32m    437\u001b[0m             \u001b[0;32mif\u001b[0m \u001b[0mverbose\u001b[0m \u001b[0;34m:\u001b[0m\u001b[0;34m\u001b[0m\u001b[0;34m\u001b[0m\u001b[0m\n\u001b[1;32m    438\u001b[0m                 \u001b[0mprint\u001b[0m \u001b[0;34m(\u001b[0m \u001b[0;34mf\"{xx} renamed to {x}\"\u001b[0m \u001b[0;34m)\u001b[0m\u001b[0;34m\u001b[0m\u001b[0;34m\u001b[0m\u001b[0m\n\u001b[0;32m--> 439\u001b[0;31m             \u001b[0mdd\u001b[0m \u001b[0;34m=\u001b[0m \u001b[0mdd\u001b[0m\u001b[0;34m.\u001b[0m\u001b[0mrename\u001b[0m \u001b[0;34m(\u001b[0m \u001b[0;34m{\u001b[0m\u001b[0mxx\u001b[0m\u001b[0;34m:\u001b[0m\u001b[0mx\u001b[0m\u001b[0;34m}\u001b[0m\u001b[0;34m)\u001b[0m\u001b[0;34m\u001b[0m\u001b[0;34m\u001b[0m\u001b[0m\n\u001b[0m\u001b[1;32m    440\u001b[0m \u001b[0;34m\u001b[0m\u001b[0m\n\u001b[1;32m    441\u001b[0m     \u001b[0;32mfor\u001b[0m \u001b[0myy\u001b[0m \u001b[0;32min\u001b[0m \u001b[0mYNAME\u001b[0m \u001b[0;34m:\u001b[0m\u001b[0;34m\u001b[0m\u001b[0;34m\u001b[0m\u001b[0m\n\u001b[1;32m    442\u001b[0m         \u001b[0;32mif\u001b[0m \u001b[0myy\u001b[0m \u001b[0;32min\u001b[0m \u001b[0mdd\u001b[0m\u001b[0;34m.\u001b[0m\u001b[0mdims\u001b[0m \u001b[0;32mand\u001b[0m \u001b[0myy\u001b[0m \u001b[0;34m!=\u001b[0m \u001b[0my\u001b[0m  \u001b[0;34m:\u001b[0m\u001b[0;34m\u001b[0m\u001b[0;34m\u001b[0m\u001b[0m\n",
      "\u001b[0;32m~/mambaforge/envs/FULL/lib/python3.10/site-packages/xarray/core/dataset.py\u001b[0m in \u001b[0;36m?\u001b[0;34m(self, name_dict, **names)\u001b[0m\n\u001b[1;32m   4210\u001b[0m         \u001b[0mDataset\u001b[0m\u001b[0;34m.\u001b[0m\u001b[0mrename_vars\u001b[0m\u001b[0;34m\u001b[0m\u001b[0;34m\u001b[0m\u001b[0m\n\u001b[1;32m   4211\u001b[0m         \u001b[0mDataset\u001b[0m\u001b[0;34m.\u001b[0m\u001b[0mrename_dims\u001b[0m\u001b[0;34m\u001b[0m\u001b[0;34m\u001b[0m\u001b[0m\n\u001b[1;32m   4212\u001b[0m         \u001b[0mDataArray\u001b[0m\u001b[0;34m.\u001b[0m\u001b[0mrename\u001b[0m\u001b[0;34m\u001b[0m\u001b[0;34m\u001b[0m\u001b[0m\n\u001b[1;32m   4213\u001b[0m         \"\"\"\n\u001b[0;32m-> 4214\u001b[0;31m         \u001b[0;32mreturn\u001b[0m \u001b[0mself\u001b[0m\u001b[0;34m.\u001b[0m\u001b[0m_rename\u001b[0m\u001b[0;34m(\u001b[0m\u001b[0mname_dict\u001b[0m\u001b[0;34m=\u001b[0m\u001b[0mname_dict\u001b[0m\u001b[0;34m,\u001b[0m \u001b[0;34m**\u001b[0m\u001b[0mnames\u001b[0m\u001b[0;34m)\u001b[0m\u001b[0;34m\u001b[0m\u001b[0;34m\u001b[0m\u001b[0m\n\u001b[0m",
      "\u001b[0;32m~/mambaforge/envs/FULL/lib/python3.10/site-packages/xarray/core/dataset.py\u001b[0m in \u001b[0;36m?\u001b[0;34m(self, name_dict, **names)\u001b[0m\n\u001b[1;32m   4159\u001b[0m \u001b[0;34m\u001b[0m\u001b[0m\n\u001b[1;32m   4160\u001b[0m             \u001b[0mcreate_dim_coord\u001b[0m \u001b[0;34m=\u001b[0m \u001b[0;32mFalse\u001b[0m\u001b[0;34m\u001b[0m\u001b[0;34m\u001b[0m\u001b[0m\n\u001b[1;32m   4161\u001b[0m             \u001b[0mnew_k\u001b[0m \u001b[0;34m=\u001b[0m \u001b[0mname_dict\u001b[0m\u001b[0;34m[\u001b[0m\u001b[0mk\u001b[0m\u001b[0;34m]\u001b[0m\u001b[0;34m\u001b[0m\u001b[0;34m\u001b[0m\u001b[0m\n\u001b[1;32m   4162\u001b[0m \u001b[0;34m\u001b[0m\u001b[0m\n\u001b[0;32m-> 4163\u001b[0;31m             \u001b[0;32mif\u001b[0m \u001b[0mk\u001b[0m \u001b[0;32min\u001b[0m \u001b[0mself\u001b[0m\u001b[0;34m.\u001b[0m\u001b[0mdims\u001b[0m \u001b[0;32mand\u001b[0m \u001b[0mnew_k\u001b[0m \u001b[0;32min\u001b[0m \u001b[0mself\u001b[0m\u001b[0;34m.\u001b[0m\u001b[0m_coord_names\u001b[0m\u001b[0;34m:\u001b[0m\u001b[0;34m\u001b[0m\u001b[0;34m\u001b[0m\u001b[0m\n\u001b[0m\u001b[1;32m   4164\u001b[0m                 \u001b[0mcoord_dims\u001b[0m \u001b[0;34m=\u001b[0m \u001b[0mself\u001b[0m\u001b[0;34m.\u001b[0m\u001b[0m_variables\u001b[0m\u001b[0;34m[\u001b[0m\u001b[0mname_dict\u001b[0m\u001b[0;34m[\u001b[0m\u001b[0mk\u001b[0m\u001b[0;34m]\u001b[0m\u001b[0;34m]\u001b[0m\u001b[0;34m.\u001b[0m\u001b[0mdims\u001b[0m\u001b[0;34m\u001b[0m\u001b[0;34m\u001b[0m\u001b[0m\n\u001b[1;32m   4165\u001b[0m                 \u001b[0;32mif\u001b[0m \u001b[0mcoord_dims\u001b[0m \u001b[0;34m==\u001b[0m \u001b[0;34m(\u001b[0m\u001b[0mk\u001b[0m\u001b[0;34m,\u001b[0m\u001b[0;34m)\u001b[0m\u001b[0;34m:\u001b[0m\u001b[0;34m\u001b[0m\u001b[0;34m\u001b[0m\u001b[0m\n\u001b[1;32m   4166\u001b[0m                     \u001b[0mcreate_dim_coord\u001b[0m \u001b[0;34m=\u001b[0m \u001b[0;32mTrue\u001b[0m\u001b[0;34m\u001b[0m\u001b[0;34m\u001b[0m\u001b[0m\n",
      "\u001b[0;31mTypeError\u001b[0m: unhashable type: 'dict'"
     ]
    }
   ],
   "source": [
    "udims = { 'x':'x', 'y':'y', 'z':'olevel', 't':'time_counter' }\n",
    "\n",
    "d_T = nemo.unify_dims (d_T, **udims)\n",
    "d_U = nemo.unify_dims (d_U, udims)\n",
    "d_V = nemo.unify_dims (d_V, udims)\n",
    "d_W = nemo.unify_dims (d_W, udims)\n",
    "d_g = nemo.unify_dims (d_g, udims)\n",
    "d_c = nemo.unify_dims (d_c, udims)\n",
    "d_b = nemo.unify_dims (d_b, udims)"
   ]
  },
  {
   "cell_type": "markdown",
   "metadata": {},
   "source": [
    "## Read variables"
   ]
  },
  {
   "cell_type": "code",
   "execution_count": null,
   "metadata": {
    "slideshow": {
     "slide_type": "subslide"
    },
    "tags": []
   },
   "outputs": [],
   "source": [
    "importlib.reload(nemo)\n",
    "thetao = d_T ['thetao']  ; so  = d_T ['so']\n",
    "lon    = d_T ['nav_lon'] ; lat = d_T ['nav_lat']\n",
    "depthT = d_T [udims['z']]\n",
    "jpj, jpi = lon.shape\n",
    "jeq = nemo.jeq (lat) # Index of equator\n",
    "\n",
    "# Needed for eORCA1.4.2 with missing lon and lat values\n",
    "lon, lat = nemo. fill_lonlat (lon, lat, sval=-1)\n",
    "\n",
    "uo   = d_U ['uo'] ; lonU = d_U ['nav_lon'] ; latU = d_U ['nav_lat']\n",
    "vo   = d_V ['vo'] ; lonV = d_V ['nav_lon'] ; latV = d_V ['nav_lat']\n",
    "wo   = d_W ['wo'] ;\n",
    "depthW = d_W [udims['z']]\n",
    "e1u  = d_g ['e1u'] ; e1v  = d_g ['e1v']\n",
    "e2u  = d_g ['e2u'] ; e2v  = d_g ['e2v']\n",
    "e3u  = d_U ['e3u'] ; e3v  = d_V ['e3v']\n",
    "\n",
    "tmask = d_g ['tmask']\n",
    "mask = tmask.isel( {udims['z']:0} )\n",
    "# Coastline\n",
    "lon_coast = d_c['lon_coast'] ; lat_coast = d_c['lat_coast']\n",
    "\n",
    "# Oceanic basin mask\n",
    "atlmsk = d_b ['atlmsk']\n",
    "pacmsk = d_b ['pacmsk']\n",
    "indmsk = d_b ['indmsk']\n",
    "\n",
    "try    : atlmsk_nomed = d_b['atlmsk_nomed']\n",
    "except : pass\n",
    "\n",
    "ipcmsk = np.clip (pacmsk + indmsk, 0, 1)\n",
    "\n",
    "lat1D, lon1D = nemo.latlon1d (lat, lon)"
   ]
  },
  {
   "cell_type": "markdown",
   "metadata": {
    "slideshow": {
     "slide_type": "slide"
    },
    "tags": []
   },
   "source": [
    "### Create a mask for plotting land masses in vertical sections"
   ]
  },
  {
   "cell_type": "code",
   "execution_count": null,
   "metadata": {
    "slideshow": {
     "slide_type": "subslide"
    },
    "tags": []
   },
   "outputs": [],
   "source": [
    "land = xr.where (np.isnan (thetao[{udims['t']:0}]), 1.0, np.nan)"
   ]
  },
  {
   "cell_type": "markdown",
   "metadata": {
    "slideshow": {
     "slide_type": "slide"
    },
    "tags": []
   },
   "source": [
    "## Corrects data and metadata for nice plots"
   ]
  },
  {
   "cell_type": "markdown",
   "metadata": {
    "slideshow": {
     "slide_type": "subslide"
    },
    "tags": []
   },
   "source": [
    "### Corrects longitudes\n",
    "\n",
    "Near the north pole"
   ]
  },
  {
   "cell_type": "code",
   "execution_count": null,
   "metadata": {
    "slideshow": {
     "slide_type": "subslide"
    },
    "tags": []
   },
   "outputs": [],
   "source": [
    "%%time\n",
    "lon  = nemo.fixed_lon (lon )\n",
    "lonU = nemo.fixed_lon (lonU)\n",
    "lonV = nemo.fixed_lon (lonV)"
   ]
  },
  {
   "cell_type": "markdown",
   "metadata": {
    "slideshow": {
     "slide_type": "subslide"
    },
    "tags": []
   },
   "source": [
    "### Force correct periodicity and north pole folding"
   ]
  },
  {
   "cell_type": "code",
   "execution_count": null,
   "metadata": {
    "slideshow": {
     "slide_type": "subslide"
    },
    "tags": []
   },
   "outputs": [],
   "source": [
    "%%time\n",
    "thetao = nemo.lbc (thetao, nperio, 'T')\n",
    "so     = nemo.lbc (so    , nperio, 'T')\n",
    "uo     = nemo.lbc (uo    , nperio, 'U', -1.)\n",
    "vo     = nemo.lbc (vo    , nperio, 'V', -1.)\n",
    "wo     = nemo.lbc (wo    , nperio, 'T')"
   ]
  },
  {
   "cell_type": "markdown",
   "metadata": {
    "slideshow": {
     "slide_type": "skip"
    }
   },
   "source": [
    "### Font size for plots"
   ]
  },
  {
   "cell_type": "code",
   "execution_count": null,
   "metadata": {
    "slideshow": {
     "slide_type": "skip"
    },
    "tags": []
   },
   "outputs": [],
   "source": [
    "plt.rcParams ['font.size'] = '16'"
   ]
  },
  {
   "cell_type": "markdown",
   "metadata": {
    "scrolled": true
   },
   "source": [
    "### Get logo files"
   ]
  },
  {
   "cell_type": "code",
   "execution_count": null,
   "metadata": {
    "scrolled": true
   },
   "outputs": [],
   "source": [
    "def GetLogo ( url, File='Logo.png' ) : \n",
    "    import requests, os\n",
    "    from pathlib import Path\n",
    "    File = Path (File)\n",
    "    if \"http\" in url : \n",
    "        suffix = File.suffix\n",
    "        if suffix == '' : \n",
    "            suffix = '.png'\n",
    "            File = File + suffix\n",
    "        if not File.exists () :\n",
    "            data = requests.get(url).content\n",
    "            file = open ( f'{File}', 'wb')\n",
    "            file.write (data)\n",
    "        Logo = mpl.image.imread ( f'{File}')\n",
    "    else :\n",
    "        Logo = mpl.image.imread (url)\n",
    "    return Logo"
   ]
  },
  {
   "cell_type": "code",
   "execution_count": null,
   "metadata": {},
   "outputs": [],
   "source": [
    "LogoIPSL = GetLogo ( \"https://www.archives.ipsl.fr/extension/design_ipsl/design/standard/images/logo_ipsl.png\", 'Logo_IPSL.png')\n",
    "LogoNEMO = GetLogo ( \"https://www.nemo-ocean.eu/doc/img107.png\", 'Logo_NEMO.png' )"
   ]
  },
  {
   "cell_type": "markdown",
   "metadata": {},
   "source": [
    "### Function to add a WaterMark"
   ]
  },
  {
   "cell_type": "code",
   "execution_count": null,
   "metadata": {},
   "outputs": [],
   "source": [
    "def WaterMark ( ax, Logo, zoom=0.5, xy=(0.,0.), alpha=0.8, xycoords='axes fraction', bboxprops={'lw':0}) :\n",
    "    imagebox = mpl.offsetbox.OffsetImage ( Logo, zoom=zoom, alpha=alpha )\n",
    "    imagebox.image.axes = ax\n",
    "    ao = mpl.offsetbox.AnnotationBbox (imagebox, xy=xy, xycoords=xycoords, bboxprops=bboxprops)  # method 2\n",
    "    ao.patch.set_alpha(0)\n",
    "    return ax.add_artist (ao)"
   ]
  },
  {
   "cell_type": "markdown",
   "metadata": {},
   "source": [
    "# Plots"
   ]
  },
  {
   "cell_type": "markdown",
   "metadata": {
    "slideshow": {
     "slide_type": "slide"
    },
    "tags": []
   },
   "source": [
    "## Map"
   ]
  },
  {
   "cell_type": "code",
   "execution_count": null,
   "metadata": {
    "tags": []
   },
   "outputs": [],
   "source": [
    "# Creates the color palette\n",
    "levels = mpl.ticker.MaxNLocator (nbins=17).tick_values (-2, 32)\n",
    "palet  = mpl.cm.viridis\n",
    "colors = palet (np.linspace (0, 1, len(levels)+1))\n",
    "cmap   = mpl.colors.ListedColormap(colors)\n",
    "cmap.set_bad ('grey')\n",
    "norm   = mpl.colors.BoundaryNorm (levels, ncolors=cmap.N+1, clip=False, extend='both')\n",
    "\n",
    "# Describe the model projection in the file\n",
    "ProjIn = ccrs.PlateCarree (central_longitude=0) \n",
    "\n",
    "# Projection for plots\n",
    "ProjPlot = ccrs.Robinson (central_longitude=270) # Plotted projection\n",
    "\n",
    "# Creates the figure\n",
    "fig, ax = plt.subplots ( figsize=(15,6), facecolor='white', subplot_kw={'projection':ProjPlot} )\n",
    "ax.set_global ()\n",
    "\n",
    "# Select data. We use lbc_plot to have nice plots in any projection\n",
    "# lbc_plot will set to np.nan the duplicate points at the north pole folding\n",
    "# It keeps the duplicate points for the east-west periodicity\n",
    "tt = nemo.lbc_plot (thetao[{udims['t']:0, udims['z']:0}], nperio=nperio, cd_type='T')\n",
    "\n",
    "# Color filing\n",
    "mmap = ax.contourf (lon, lat, tt, \n",
    "                    cmap=cmap, norm=norm, levels=levels, transform=ProjIn,)\n",
    "    \n",
    "# Contour lines\n",
    "mlin = ax.contour (lon, lat, tt, colors='k', levels=levels, transform=ProjIn, linewidths=0.25)\n",
    "\n",
    "# Add labels to contour lines\n",
    "ax.clabel (mlin, colors=['k'], manual=False,  # Automatic placement\n",
    "        inline=True,  # Cut the line where the label will be placed.\n",
    "        fmt='{:3.1f} '.format, fontsize='xx-small' )\n",
    "\n",
    "# Beautify\n",
    "ax.gridlines (draw_labels=True, crs=ProjIn,)\n",
    "ax.coastlines ()\n",
    "\n",
    "def WaterMark ( ax, Logo, zoom=0.5, xy=(0.,0.), alpha=0.8, xycoords='axes fraction', bboxprops={'lw':0}) :\n",
    "    imagebox = mpl.offsetbox.OffsetImage ( Logo, zoom=zoom, alpha=alpha )\n",
    "    imagebox.image.axes = ax\n",
    "    ao = mpl.offsetbox.AnnotationBbox (imagebox, xy=xy, xycoords=xycoords, bboxprops=bboxprops)  # method 2\n",
    "    ao.patch.set_alpha(0)\n",
    "    ax.add_artist (ao)\n",
    "\n",
    "WaterMark ( ax=ax, Logo=LogoNEMO, zoom=0.2, xy=(0.92,  0.), alpha=1, xycoords='axes fraction', bboxprops={'lw':0})\n",
    "WaterMark ( ax=ax, Logo=LogoIPSL, zoom=0.5, xy=(0.1,0.), alpha=1, xycoords='axes fraction', bboxprops={'lw':0})"
   ]
  },
  {
   "cell_type": "code",
   "execution_count": null,
   "metadata": {
    "tags": []
   },
   "outputs": [],
   "source": [
    "# Creates the color palette\n",
    "levels = mpl.ticker.MaxNLocator (nbins=17).tick_values (-2, 32)\n",
    "palet  = mpl.cm.viridis\n",
    "colors = palet (np.linspace (0, 1, len(levels)+1))\n",
    "cmap   = mpl.colors.ListedColormap(colors)\n",
    "cmap.set_bad ('grey')\n",
    "norm   = mpl.colors.BoundaryNorm (levels, ncolors=cmap.N+1, clip=False, extend='both')\n",
    "\n",
    "# Describe the model projection in the file\n",
    "ProjIn = ccrs.PlateCarree (central_longitude=0) \n",
    "\n",
    "# Projection for plots\n",
    "ProjPlot = ccrs.Orthographic (central_longitude=-20, central_latitude=70) # Plotted projection\n",
    "\n",
    "# Creates the figure\n",
    "fig = plt.figure (figsize=(15,6), facecolor='white')\n",
    "\n",
    "# Creates the viewport, with the associated projection\n",
    "ax = fig.add_subplot (1, 1, 1, projection=ProjPlot)\n",
    "\n",
    "ax.set_global ()\n",
    "\n",
    "# Select data. We use lbc_plot to have nice plots in any projection\n",
    "# lbc_plot will set to np.nan the duplicate points at the north pole folding\n",
    "# it keeps the duplicate points for the east-west periodicity\n",
    "tt = nemo.lbc_plot (thetao[{udims['t']:0, udims['z']:0}], nperio=nperio, cd_type='T')\n",
    "\n",
    "# Color filing\n",
    "mmap = ax.contourf (lon, lat, tt, \n",
    "                    cmap=cmap, norm=norm, levels=levels, transform=ProjIn,)\n",
    "    \n",
    "# Contour lines\n",
    "mlin3 = ax.contour (lon, lat, tt, colors='k', levels=levels[::3], transform=ProjIn, linewidths=1)\n",
    "mlin  = ax.contour (lon, lat, tt, colors='k', levels=levels, transform=ProjIn, linewidths=0.25)\n",
    "\n",
    "# Add labels to contour lines\n",
    "ax.clabel (mlin3, colors=['k'], manual=False,  # Automatic placement\n",
    "        inline=True,  # Cut the line where the label will be placed.\n",
    "        fmt='{:3.1f} '.format, fontsize='xx-small' )\n",
    "\n",
    "# Beautify\n",
    "ax.gridlines (draw_labels=True, crs=ProjIn,)\n",
    "ax.coastlines ()\n",
    "\n",
    "# Color bar"
   ]
  },
  {
   "cell_type": "markdown",
   "metadata": {
    "slideshow": {
     "slide_type": "slide"
    }
   },
   "source": [
    "## Plot real coastline of ORCA"
   ]
  },
  {
   "cell_type": "markdown",
   "metadata": {
    "slideshow": {
     "slide_type": "subslide"
    },
    "tags": []
   },
   "source": [
    "### Robinson projection\n",
    "\n",
    "- Was OK with Matplotlib 3.7\n",
    "- Fails with Matplotlib 3.8\n",
    "    - GitHub issue at : https://github.com/SciTools/cartopy/issues/2260#issuecomment-1753116268"
   ]
  },
  {
   "cell_type": "code",
   "execution_count": null,
   "metadata": {},
   "outputs": [],
   "source": [
    "mpl.__version__"
   ]
  },
  {
   "cell_type": "code",
   "execution_count": null,
   "metadata": {
    "slideshow": {
     "slide_type": "subslide"
    },
    "tags": []
   },
   "outputs": [],
   "source": [
    "if mpl.__version__ != '3.8.0' : \n",
    "    from matplotlib.path import Path\n",
    "    import matplotlib.patches as mpatches\n",
    "    \n",
    "    # Describe the model projection in the file\n",
    "    ProjIn = ccrs.PlateCarree (central_longitude=0) \n",
    "    \n",
    "    # Projection for plots\n",
    "    ProjPlot = ccrs.Robinson (central_longitude=270) # Plotted projection\n",
    "    #ProjPlot=ProjIn\n",
    "    \n",
    "    # Creates the figure\n",
    "    fig = plt.figure (figsize=(12,5), facecolor='white')\n",
    "    \n",
    "    # Creates the viewport, with the associated projection\n",
    "    ax = fig.add_subplot (1, 1, 1, projection=ProjPlot)\n",
    "    ax.set_global ()\n",
    "    \n",
    "    # Plot real coastline of ORCA\n",
    "    # ===========================\n",
    "    ax.plot (lon_coast, lat_coast, linewidth=2, color='red' , transform=ProjIn)\n",
    "    \n",
    "    ax.gridlines (draw_labels=True, crs=ProjIn)"
   ]
  },
  {
   "cell_type": "markdown",
   "metadata": {
    "slideshow": {
     "slide_type": "slide"
    },
    "tags": []
   },
   "source": [
    "### Polar projection"
   ]
  },
  {
   "cell_type": "code",
   "execution_count": null,
   "metadata": {
    "slideshow": {
     "slide_type": "subslide"
    },
    "tags": []
   },
   "outputs": [],
   "source": [
    "from matplotlib.path import Path\n",
    "#import matplotlib.patches as mpatches\n",
    "\n",
    "# Describe the model projection in the file\n",
    "ProjIn = ccrs.PlateCarree (central_longitude=0) \n",
    "\n",
    "# Projection for plots\n",
    "ProjPlot = ccrs.Orthographic (central_longitude=-20, central_latitude=40) # Plotted projection\n",
    "\n",
    "# Creates the figure\n",
    "fig, ax = plt.subplots ( figsize=(8,6), facecolor='white', subplot_kw={'projection':ProjPlot} )\n",
    "\n",
    "ff = 1 ; ax.set_xlim (-Ra*ff, Ra*ff) ; ax.set_ylim (-Ra*ff, Ra*ff)\n",
    "\n",
    "# Plot real coastline of ORCA\n",
    "# ===========================\n",
    "ax.plot (lon_coast, lat_coast, linewidth=3, color='red'   , transform=ProjIn)\n",
    "ax.plot (lon_coast, lat_coast, linewidth=1, color='white' , transform=ProjIn)\n",
    "\n",
    "ax.gridlines (draw_labels=True, crs=ProjIn)"
   ]
  },
  {
   "cell_type": "markdown",
   "metadata": {},
   "source": [
    "## Vertical sections"
   ]
  },
  {
   "cell_type": "markdown",
   "metadata": {
    "slideshow": {
     "slide_type": "slide"
    },
    "tags": []
   },
   "source": [
    "### Vertical section at Equator"
   ]
  },
  {
   "cell_type": "code",
   "execution_count": null,
   "metadata": {
    "slideshow": {
     "slide_type": "subslide"
    },
    "tags": []
   },
   "outputs": [],
   "source": [
    "fig = plt.figure ( figsize=(16, 10), facecolor='white' )\n",
    "plt.tight_layout ()\n",
    "\n",
    "# Section of temperature\n",
    "# ======================\n",
    "levels = np.arange (10, 32.001, 1)\n",
    "cmap   = mpl.cm.viridis\n",
    "colors = cmap (np.linspace (0, 1, len(levels)+1))\n",
    "norm   = mpl.colors.BoundaryNorm (levels, ncolors=cmap.N, clip=False)\n",
    "ax = fig.add_subplot (2, 2, 1)\n",
    "\n",
    "# Contour lines\n",
    "mcon = ax.contour (lon[jeq], depthT, thetao[{udims['t']:0, udims['y']:jeq}], colors=colors, levels=levels)\n",
    "\n",
    "# Labels contour lines\n",
    "ax.clabel (mcon, inline=False,  colors='k', # Cut the line where the label will be placed.\n",
    "        fmt='{:3.1f} '.format, fontsize='xx-small' )\n",
    "\n",
    "# Plot land masses\n",
    "ax.pcolor (lon[jeq], depthT, land[:,jeq], cmap='gray', vmin=0, vmax=2, shading='auto')\n",
    "\n",
    "ax.set_ylim (400,0)\n",
    "#plt.colorbar (mcon, orientation='vertical', ax=ax, label=\"°C\")\n",
    "plt.colorbar (mpl.cm.ScalarMappable(norm=norm, cmap=cmap), ax=ax, label='°C' )\n",
    "ax.set_xlabel(\"Longitude\") ; ax.set_ylabel(\"Depth\")\n",
    "ax.grid(color='k', linestyle='-', linewidth=0.1)\n",
    "ax.xaxis.set_major_formatter(cartopy.mpl.ticker.LongitudeFormatter(number_format='.0f'))\n",
    "\n",
    "# Section of zonal velocity\n",
    "# =========================\n",
    "levels = np.arange (-1.4, 1.4, 0.1)\n",
    "levels = np.delete (levels, np.where(levels == 0))\n",
    "\n",
    "cmap   = mpl.cm.RdYlBu_r\n",
    "colors = cmap (np.linspace (0, 1, len(levels)+1))\n",
    "colors[len(levels)//2-1] = [0.98]\n",
    "norm   = mpl.colors.BoundaryNorm (levels, ncolors=cmap.N, clip=False)\n",
    "\n",
    "ax = fig.add_subplot (2, 2, 2)\n",
    "\n",
    "mmap = ax.contourf (lon[jeq], depthT, uo[{udims['t']:0, udims['y']:jeq}], \n",
    "             colors=colors, norm=norm, levels=levels)\n",
    "\n",
    "mcon  = ax.contour (lonU[{udims['y']:jeq}], depthT, uo[{udims['t']:0, udims['y']:jeq}], colors='k', levels=levels)\n",
    "\n",
    "ax.clabel (mcon, inline=True,  # Cut the line where the label will be placed.\n",
    "        fmt='{:3.1f} '.format, fontsize='xx-small' )\n",
    "\n",
    "ax.pcolor (lon[{udims['y']:jeq}], depthT, land[{udims['y']:jeq}], cmap='gray', vmin=0, vmax=2, shading='auto')\n",
    "ax.xaxis.set_major_formatter(cartopy.mpl.ticker.LongitudeFormatter(number_format='.0f'))\n",
    "\n",
    "ax.set_ylim (400,0)\n",
    "plt.colorbar (mmap, orientation='vertical', ax=ax, label=r'm$\\cdot$ s$^{-1}$')\n",
    "ax.set_xlabel (\"Longitude\") ; ax.set_ylabel (\"Depth\")\n",
    "ax.grid(color='k', linestyle='-', linewidth=0.1)\n",
    "\n",
    "# Section of vertical velocity\n",
    "# ============================\n",
    "levels = np.arange (-3, 3, 0.5)\n",
    "levels = np.delete (levels, np.where(levels == 0))\n",
    "palet   = mpl.cm.RdYlBu_r\n",
    "colors = palet (np.linspace (0, 1, len(levels)+1))\n",
    "colors [len(levels)//2+1] = [0.9]\n",
    "norm   = mpl.colors.BoundaryNorm (levels, ncolors=cmap.N, clip=False, extend='both')\n",
    "ax = fig.add_subplot (2, 2, 3)\n",
    "\n",
    "# Smoothing vertical velocity\n",
    "ww = wo[{udims['t']:0}].rolling(olevel=3, y=3, x=5).mean()[{udims['y']:jeq}]*86400\n",
    "\n",
    "mmap = ax.contourf (lonU[jeq], depthT, ww, colors=colors, norm=norm, levels=levels, extend='both')\n",
    "\n",
    "mcon  = ax.contour (lonU[{udims['y']:jeq}], depthT, ww, colors='k', levels=levels)\n",
    "\n",
    "ax.pcolor (lon[jeq], depthT, land[:,jeq], cmap='gray', vmin=0, vmax=2, shading='auto')\n",
    "\n",
    "ax.set_ylim (400,0)\n",
    "plt.colorbar (mmap, orientation='vertical', ax=ax, label=r\"m$\\cdot$day$^{-1}$\")\n",
    "ax.set_xlabel(\"Longitude\") ; ax.set_ylabel(\"Depth\")\n",
    "ax.grid(color='k', linestyle='-', linewidth=0.1)\n",
    "\n",
    "ax.xaxis.set_major_formatter(cartopy.mpl.ticker.LongitudeFormatter(number_format='.0f'))\n"
   ]
  },
  {
   "cell_type": "markdown",
   "metadata": {
    "slideshow": {
     "slide_type": "slide"
    },
    "tags": []
   },
   "source": [
    "### Vertical section accross equator"
   ]
  },
  {
   "cell_type": "code",
   "execution_count": null,
   "metadata": {
    "slideshow": {
     "slide_type": "subslide"
    }
   },
   "outputs": [],
   "source": [
    "importlib.reload (nemo)\n",
    "fig = plt.figure ( figsize=(16,6), facecolor='white' )\n",
    "plt.tight_layout ()\n",
    "\n",
    "# Section of temperature\n",
    "# ======================\n",
    "xcoupe = 80 ; ycoupe = slice (jeq-jpj//3,jeq+jpj//3)\n",
    "levels = np.arange (-2, 32.1, 2.)\n",
    "palet  = mpl.cm.mpl.cm.RdYlBu_r\n",
    "colors = palet (np.linspace ( 0, 1, len(levels)+1) )\n",
    "norm   = mpl.colors.BoundaryNorm (levels, ncolors=palet.N, clip=False)\n",
    "\n",
    "ax = fig.add_subplot (2, 2, 1)\n",
    "mmap = ax.contourf (lat[ycoupe, xcoupe], depthT, thetao[{udims['t']:0, udims['y']:ycoupe, udims['x']:xcoupe}], \n",
    "             colors=colors, norm=norm, levels=levels)\n",
    "\n",
    "mcon = ax.contour (lat[ycoupe, xcoupe], depthT, thetao[{udims['t']:0, udims['y']:ycoupe, udims['x']:xcoupe}], colors='k', levels=levels)\n",
    "\n",
    "# Add land masses\n",
    "ax.pcolor (lat[ycoupe, xcoupe], depthT, land[:, ycoupe, xcoupe], cmap='gray', vmin=0, vmax=2, shading='auto')\n",
    "\n",
    "ax.set_ylim (400,0) ; ax.set_xlim (-50,50)\n",
    "plt.colorbar (mmap, orientation='vertical', ax=ax, label=\"°C\")\n",
    "ax.set_xlabel (\"Latitude\") ; ax.set_ylabel (\"Depth\")\n",
    "ax.grid (color='k', linestyle='-', linewidth=0.1)\n",
    "ax.xaxis.set_major_formatter(cartopy.mpl.ticker.LatitudeFormatter (number_format='.0f'))\n",
    "\n",
    "print ( \"Slice at longitude {:3.1f}\".format(lon[{udims['y']:jeq, udims['x']:xcoupe}].values ) )\n",
    "\n",
    "# Section of meridional velocity\n",
    "# ==============================\n",
    "\n",
    "levels = [-0.4, -0.3, -0.2, -0.1, -0.05, -0.01, 0.01, 0.05, .1, .2, .3, .4]\n",
    "cmap   = mpl.cm.RdYlBu_r\n",
    "colors = cmap (np.linspace (0, 1, len(levels)+1))\n",
    "colors[len(levels)//2-1] = [0.98]\n",
    "norm   = mpl.colors.BoundaryNorm (levels, ncolors=cmap.N, clip=False, extend='both')\n",
    "ax = fig.add_subplot (2, 2, 2)\n",
    "\n",
    "mmap = ax.contourf (lat[ycoupe, xcoupe], depthT, vo[{udims['t']:0, udims['y']:ycoupe, udims['x']:xcoupe}], \n",
    "             colors=colors, norm=norm, levels=levels, extend='both')\n",
    "\n",
    "mcon = ax.contour (lat[ycoupe, xcoupe], depthT, vo[{udims['t']:0, udims['y']:ycoupe, udims['x']:xcoupe}], colors='k', levels=levels)\n",
    "\n",
    "ax.pcolor (lat[{udims['y']:ycoupe, udims['x']:xcoupe}], depthT, land[:, ycoupe, xcoupe], cmap='gray', vmin=0, vmax=2)\n",
    "\n",
    "ax.set_ylim (400,0) ; ax.set_xlim (-50,50)\n",
    "plt.colorbar (mmap, orientation='vertical', ax=ax, label='m$\\cdot$s$^{-1}$')\n",
    "ax.set_xlabel(\"Latitude\") ; ax.set_ylabel(\"Depth\")\n",
    "ax.grid(color='k', linestyle='-', linewidth=0.1)\n",
    "ax.xaxis.set_major_formatter(cartopy.mpl.ticker.LatitudeFormatter (number_format='.0f'))\n",
    "\n",
    "# Section of zonal velocity\n",
    "# =========================\n",
    "levels = [-1.2, -1, -0.8, -0.6, -0.4, -0.2, -0.1, -0.05, -0.02, 0.02, 0.05, 0.1, 0.2, 0.4, 0.6, 0.8, 1.0, 1.2]\n",
    "cmap   = mpl.cm.RdYlBu_r\n",
    "colors = cmap (np.linspace (0, 1, len(levels)))\n",
    "colors[len(levels)//2-1] = [0.98]\n",
    "norm   = mpl.colors.BoundaryNorm (levels, ncolors=cmap.N, clip=False, extend='both')\n",
    "ax = fig.add_subplot (2, 2, 3)\n",
    "\n",
    "mmap = ax.contourf (lat[ycoupe, xcoupe], depthT, uo[{udims['t']:0, udims['y']:ycoupe, udims['x']:xcoupe}], \n",
    "             colors=colors, norm=norm, levels=levels)\n",
    "\n",
    "mcon = ax.contour (lat[ycoupe, xcoupe], depthT, uo[{udims['t']:0, udims['y']:ycoupe, udims['x']:xcoupe}], colors='k', levels=levels)\n",
    "\n",
    "ax.pcolor (lat[{udims['y']:ycoupe, udims['x']:xcoupe}], depthT, land[:, ycoupe, xcoupe], cmap='gray', vmin=0, vmax=2, shading='auto')\n",
    "\n",
    "ax.set_ylim (400, 0) ; ax.set_xlim (-50, 50)\n",
    "plt.colorbar (mmap, orientation='vertical', ax=ax, label='m$\\cdot$s$^{-1}$')\n",
    "ax.set_xlabel(\"Latitude\") ; ax.set_ylabel(\"Depth\")\n",
    "ax.grid(color='k', linestyle='-', linewidth=0.1)\n",
    "ax.xaxis.set_major_formatter(cartopy.mpl.ticker.LatitudeFormatter (number_format='.0f'))\n",
    "\n",
    "# Slice of vertical velocity\n",
    "# ==========================\n",
    "levels = [-4, -2, -1, -0.2, -0.1, 0.1, 0.2, 1, 2, 4]\n",
    "palet  = mpl.cm.RdYlBu_r\n",
    "colors = palet (np.linspace (0, 1, len(levels)))\n",
    "colors[len(levels)//2-1] = [0.98]\n",
    "norm   = mpl.colors.BoundaryNorm (levels, ncolors=cmap.N, clip=False, extend='both')\n",
    "ax = fig.add_subplot (2, 2, 4)\n",
    "\n",
    "# Smoothing vertical velocity\n",
    "ww = wo[{udims['t']:0}].rolling(olevel=3, y=3, x=3).mean()[{udims['y']:ycoupe, udims['x']:xcoupe}]*86400\n",
    "\n",
    "mmap = ax.contourf (lat[ycoupe, xcoupe], depthT, ww, colors=colors, norm=norm, levels=levels, extend='both' )\n",
    "\n",
    "mcon = ax.contour (lat[{udims['y']:ycoupe, udims['x']:xcoupe}], depthT, ww, colors='k', levels=levels)\n",
    "\n",
    "ax.pcolor (lat[ycoupe, xcoupe], depthT, land[:, ycoupe, xcoupe], cmap='gray', vmin=0, vmax=2, shading='auto')\n",
    "\n",
    "ax.set_ylim (400, 0) ; ax.set_xlim (-50, 50)\n",
    "plt.colorbar (mmap, orientation='vertical', ax=ax, label='m$\\cdot$day$^{-1}$')\n",
    "ax.set_xlabel (\"Latitude\") ; ax.set_ylabel (\"Depth\")\n",
    "ax.grid(color='k', linestyle='-', linewidth=0.1)\n",
    "ax.xaxis.set_major_formatter (cartopy.mpl.ticker.LatitudeFormatter (number_format='.0f'))"
   ]
  },
  {
   "cell_type": "markdown",
   "metadata": {
    "slideshow": {
     "slide_type": "slide"
    },
    "tags": []
   },
   "source": [
    "## Surface currents"
   ]
  },
  {
   "cell_type": "code",
   "execution_count": null,
   "metadata": {
    "slideshow": {
     "slide_type": "subslide"
    }
   },
   "outputs": [],
   "source": [
    "levels = mpl.ticker.MaxNLocator (nbins=17).tick_values (0, 1)\n",
    "palet  = mpl.cm.viridis\n",
    "colors = palet (np.linspace (0, 1, len(levels)))\n",
    "cmap, norm = mpl.colors.from_levels_and_colors (levels, colors, extend='max')\n",
    "\n",
    "ProjIn   = ccrs.PlateCarree (central_longitude=0)\n",
    "ProjPlot = ccrs.PlateCarree (central_longitude=270)\n",
    "\n",
    "fig, ax = plt.subplots ( figsize=(15,6), facecolor='white', subplot_kw={'projection':ProjPlot} )\n",
    "\n",
    "plt.tight_layout ()\n",
    "\n",
    "# Vector components are averaged at T point\n",
    "ux = nemo.u2t ( uo[{udims['t']:0, udims['z']:0}], nperio=nperio )\n",
    "vy = nemo.v2t ( vo[{udims['t']:0, udims['z']:0}], nperio=nperio )\n",
    "tt = thetao[{udims['t']:0, udims['z']:0}].values\n",
    "uv = np.sqrt (ux*ux + vy*vy)\n",
    "\n",
    "ux = ux.where (uv!=0, np.nan)\n",
    "\n",
    "mver = ax.quiver (lon.values, lat.values, \n",
    "                  ux.values, vy.values, uv.values,\n",
    "                  pivot='tip', scale=20, width=2E-3, transform=ProjIn,\n",
    "                  cmap=cmap, norm=norm)\n",
    "#ax.quiverkey (mver, X=0.15, Y=0.1, U=1, color='red', label=r'Velocity : 1 m $\\cdot$ s^${-1}$', labelpos='N')\n",
    "ax.quiverkey (mver, X=0.15, Y=0.1, U=1, color='red', label=r'Velocity : $1 m\\cdot s^{-2}$ ', labelpos='N')\n",
    "\n",
    "ax.set_extent ( ( -60, 10, -10, 10,), crs=ProjIn ) \n",
    "\n",
    "ax.coastlines ()\n",
    "ax.add_feature (cartopy.feature.LAND)\n",
    "ax.gridlines (draw_labels=True, crs=ProjIn)\n",
    "\n",
    "plt.colorbar (mver, orientation='vertical', ax=fig.axes, label='m $\\cdot$ s$^{-1}$', shrink=0.7)"
   ]
  },
  {
   "cell_type": "markdown",
   "metadata": {},
   "source": [
    "## Vertical sections of currents"
   ]
  },
  {
   "cell_type": "markdown",
   "metadata": {
    "slideshow": {
     "slide_type": "slide"
    },
    "tags": []
   },
   "source": [
    "### Equator section of currents"
   ]
  },
  {
   "cell_type": "code",
   "execution_count": null,
   "metadata": {
    "slideshow": {
     "slide_type": "subslide"
    },
    "tags": []
   },
   "outputs": [],
   "source": [
    "importlib.reload (nemo)\n",
    "fig = plt.figure ( figsize=(16, 5), facecolor='white' )\n",
    "\n",
    "\n",
    "levels = np.arange (0, 1, 0.1)\n",
    "palet  = mpl.cm.viridis\n",
    "colors = palet (np.linspace (0, 1, len(levels)))\n",
    "cmap, norm = mpl.colors.from_levels_and_colors (levels, colors, extend='max')\n",
    "\n",
    "ax = fig.add_subplot (1, 1, 1)\n",
    "ax.set_ylim (200,0) ; ax.set_xlim (110-360, 290-360)\n",
    "\n",
    "# Computes scale factors to get correct direction of vectors\n",
    "xmin,xmax=ax.get_xlim() ; ymin,ymax=ax.get_ylim()\n",
    "delta_Y =ax.get_window_extent().height\n",
    "delta_X =ax.get_window_extent().width\n",
    "\n",
    "fact_u  = delta_X / np.abs(xmax-xmin) / ( Ra*np.pi/180. )\n",
    "fact_w  = delta_Y / np.abs(ymax-ymin)\n",
    "\n",
    "print ( f'{fact_u = } {fact_w = } {fact_w/fact_u = }' )\n",
    "\n",
    "ux = nemo.u2t ( uo[:,:,jeq].mean (dim=udims['t']), nperio=nperio)\n",
    "wz = nemo.w2t ( wo[:,:,jeq].mean (dim=udims['t']), zdim='olevel', zcoord=ux.olevel) \n",
    "uw = np.sqrt (ux*ux + wz*wz)\n",
    "ux = ux.where(uw!=0, np.nan)\n",
    "\n",
    "mver = ax.quiver (lon[jeq].values, depthT.values, \n",
    "                  ux.values, (wz*fact_w/fact_u).values, uw.values,\n",
    "                  pivot='tail', width=1E-3, cmap=cmap, norm=norm)\n",
    "ax.pcolor (lon[jeq], depthT, land[:,jeq], cmap='gray', vmin=0, vmax=2)\n",
    "\n",
    "ax.quiverkey (mver, X=0.1, Y=-0.15, U=1, color='red', label='Velocity : 1 $m \\cdot s^{-1}$', labelpos='E')\n",
    "\n",
    "ax.set_xlabel (\"Longitude\") ; ax.set_ylabel (\"Depth (m)\")\n",
    "ax.grid (color='k', linestyle='-', linewidth=0.1)\n",
    "ax.xaxis.set_major_formatter(cartopy.mpl.ticker.LongitudeFormatter(number_format='.0f'))\n",
    "\n",
    "plt.colorbar (mver, orientation='vertical', ax=fig.axes, label='m $\\cdot$ s$^{-1}$')"
   ]
  },
  {
   "cell_type": "markdown",
   "metadata": {
    "slideshow": {
     "slide_type": "slide"
    }
   },
   "source": [
    "### Section of current accros the equator"
   ]
  },
  {
   "cell_type": "code",
   "execution_count": null,
   "metadata": {
    "slideshow": {
     "slide_type": "subslide"
    }
   },
   "outputs": [],
   "source": [
    "importlib.reload (nemo)\n",
    "fig = plt.figure ( figsize=(16,6), facecolor='white' )\n",
    "plt.tight_layout () \n",
    "\n",
    "# Slice current\n",
    "xcoupe = int(jpi*0.4) ; ycoupe = slice (jeq-jpj//3,jeq+jpj//3)\n",
    "levels = np.arange (0, 0.2, 0.02)\n",
    "palet  = mpl.cm.viridis\n",
    "colors = palet (np.linspace (0, 1, len(levels)))\n",
    "cmap, norm = mpl.colors.from_levels_and_colors (levels, colors, extend='max')\n",
    "\n",
    "ax = fig.add_subplot (1, 1, 1, adjustable='box')\n",
    "ax.set_ylim (300,0) ; ax.set_xlim (-20, 20)\n",
    "\n",
    "# Computes scale factors to get correct direction of vectors\n",
    "xmin,xmax=ax.get_xlim() ; ymin,ymax=ax.get_ylim()\n",
    "delta_Y = ax.get_window_extent().height\n",
    "delta_X = ax.get_window_extent().width\n",
    "fact_v  = delta_X / np.abs(xmax-xmin) / ( Ra*np.pi/180. )\n",
    "fact_w  = delta_Y / np.abs(ymax-ymin)\n",
    "\n",
    "vy = nemo.u2t (vo[:, :, ycoupe, xcoupe].mean(dim=udims['t']), nperio=0)\n",
    "wz = nemo.w2t (wo[:, :, ycoupe, xcoupe].mean(dim=udims['t']), zdim='olevel', zcoord=vy.olevel) \n",
    "vw = np.sqrt (vy*vy + wz*wz)\n",
    "vy = vy.where(vw!=0, np.nan)\n",
    "\n",
    "mcon = ax.contour (lat[ycoupe, xcoupe], depthT, vy, \n",
    "            levels=np.arange(-1,1,0.1), linewidths=2, cmap=cmap) #colors='grey')\n",
    "\n",
    "ax.clabel (mcon, colors=['k'], manual=False,  # Automatic placement\n",
    "        inline=True,  # Cut the line where the label will be placed.\n",
    "        fmt=r'{:3.2f} $m \\cdot s^{{-1}}$'.format, \n",
    "        fontsize='medium' )\n",
    "\n",
    "mver = ax.quiver (lat[ycoupe, xcoupe].values, depthT.values, \n",
    "                  vy.values, (wz*fact_w/fact_v).values, vw.values,\n",
    "                  pivot='tail', width=1E-3, \n",
    "                  cmap=cmap, norm=norm)\n",
    "\n",
    "ax.pcolor (lat[ycoupe, xcoupe].values, depthT.values, land[:, ycoupe, xcoupe], \n",
    "           cmap='gray', vmin=0, vmax=2)\n",
    "\n",
    "ax.quiverkey (mver, X=0.1, Y=-0.1, U=0.1, label='Velocity : 0.1 m $\\cdot$ s$^{-1}$', \n",
    "              labelpos='E', color='red', coordinates='axes')\n",
    "\n",
    "ax.set_xlabel (\"Longitude\") ; ax.set_ylabel (\"Depth\")\n",
    "ax.grid (color='k', linestyle='-', linewidth=0.1)\n",
    "ax.xaxis.set_major_formatter(cartopy.mpl.ticker.LatitudeFormatter (number_format='.0f'))\n",
    "\n",
    "plt.colorbar (mver, orientation='vertical', ax=fig.axes, label='m $\\cdot$ s$^{-1}$')"
   ]
  },
  {
   "cell_type": "markdown",
   "metadata": {},
   "source": [
    "### Vertical plot with separation depth\n",
    "\n",
    "Using a vertical transform"
   ]
  },
  {
   "cell_type": "code",
   "execution_count": null,
   "metadata": {},
   "outputs": [],
   "source": [
    "importlib.reload (nemo)\n",
    "\n",
    "# Transformation functions for the vertical coordinates\n",
    "depth0= 1000  # Separation depth\n",
    "zmax  = 5000  # Maximum depth\n",
    "ratio = 0.5    # Ratio of deep part over surface part\n",
    "fact = (ratio * depth0 / (zmax - depth0))**0.5\n",
    "def depth2comp (pz) : return nemo.depth2comp (pz, depth0=depth0, fact=fact)\n",
    "def comp2depth (pz) : return nemo.comp2depth (pz, depth0=depth0, fact=fact)\n",
    "\n",
    "fig = plt.figure ( figsize=(17,5) )\n",
    "ax  = fig.add_subplot (1,1,1)\n",
    "\n",
    "mmap = ax.contourf ( lon1D, depth2comp(depthT), thetao[0,:,jeq,:] )\n",
    "mlin = ax.contour  ( lon1D, depth2comp(depthT), thetao[0,:,jeq,:], colors='k' )\n",
    "\n",
    "ax.set_ylim (depth2comp(zmax), depth2comp(0.5))\n",
    "ax.set_yscale (mpl.scale.FuncScale (ax, (depth2comp, comp2depth)))\n",
    "\n",
    "# Ticks\n",
    "## Longitude ticks\n",
    "fmtX = cartopy.mpl.ticker.LongitudeFormatter (number_format='.0f')\n",
    "ax.xaxis.set_major_formatter (fmtX)\n",
    "\n",
    "## Depth ticks\n",
    "### Ticks for the upper part\n",
    "yticks1 = mpl.ticker.MultipleLocator(base= 250.0).tick_values ( 0    , depth0)\n",
    "### Ticks for the deep part\n",
    "yticks2 = mpl.ticker.MultipleLocator(base=1000.0).tick_values (depth0, zmax  )\n",
    "yticks = np.concatenate ( (yticks1[1:-2], [depth0], yticks2[2:-2]))\n",
    "                                                              \n",
    "fmtY = '{:.0f}m'.format\n",
    "ax.set_yticks ( depth2comp (yticks)) ; ax.set_yticklabels ( [fmtY(y) for y in yticks] )\n",
    "\n",
    "ax.pcolor (lon1D, depth2comp(depthT), land[:,jeq], cmap='grey', vmin=0, vmax=2)\n",
    "\n",
    "### Plot a line at the separation depth\n",
    "ax.plot ( ax.get_xlim(), [depth0, depth0], lw=1, color='red', linestyle='dashed')\n",
    "\n",
    "ax.set_title ('Temperature')\n",
    "plt.colorbar (mmap, label='°C')"
   ]
  },
  {
   "cell_type": "markdown",
   "metadata": {},
   "source": [
    "### Vertical vector plot with separation depth"
   ]
  },
  {
   "cell_type": "code",
   "execution_count": null,
   "metadata": {},
   "outputs": [],
   "source": [
    "importlib.reload (nemo)\n",
    "\n",
    "# Transformation functions for the vertical coordinates\n",
    "depth0= 100    # Separation depth\n",
    "zmax  = 400    # Maximum depth\n",
    "ratio = 0.5    # Ratio of deep part over surface part\n",
    "fact = (ratio * depth0 / (zmax - depth0))**0.5\n",
    "def depth2comp (pz) : return nemo.depth2comp (pz, depth0=depth0, fact=fact)\n",
    "def comp2depth (pz) : return nemo.comp2depth (pz, depth0=depth0, fact=fact)\n",
    "\n",
    "fig = plt.figure ( figsize=(17,5) )\n",
    "ax  = fig.add_subplot (1,1,1)\n",
    "\n",
    "#mmap = ax.contourf ( lon1D, depth2comp(depthT), thetao[0,:,jeq,:] )\n",
    "mlin = ax.contour  ( lon1D, depth2comp(depthT), thetao[0,:,jeq,:], colors='k' )\n",
    "\n",
    "ax.set_ylim (depth2comp(zmax), depth2comp(0.5))\n",
    "ax.set_xlim ( -250, -60)\n",
    "\n",
    "#ax.set_yscale (mpl.scale.FuncScale (ax, (depth2comp, comp2depth)))\n",
    "\n",
    "print ( ax.get_xlim(), ax.get_ylim())\n",
    "# Ticks\n",
    "## Longitude ticks\n",
    "fmtX = cartopy.mpl.ticker.LongitudeFormatter (number_format='.0f')\n",
    "ax.xaxis.set_major_formatter (fmtX)\n",
    "\n",
    "## Depth ticks\n",
    "### Ticks for the upper part\n",
    "yticks1 = mpl.ticker.MultipleLocator(base= 50.0).tick_values ( 0    , depth0)\n",
    "### Ticks for the deep part\n",
    "yticks2 = mpl.ticker.MultipleLocator(base=100.0).tick_values (depth0, zmax  )\n",
    "yticks = np.concatenate ( (yticks1[1:-2], [depth0], yticks2[2:-1]))\n",
    "\n",
    "fmtY = '{:.0f}m'.format\n",
    "ax.set_yticks ( depth2comp (yticks)) ; ax.set_yticklabels ( [fmtY(y) for y in yticks] )\n",
    "\n",
    "### Plot a line at the separation depth\n",
    "ax.plot ( ax.get_xlim(), [depth0, depth0], lw=1, color='red', linestyle='dashed')\n",
    "print ( f'{ax.get_ylim()=}' )\n",
    "\n",
    "ax.set_title ('Temperature' )\n",
    "\n",
    "ux = nemo.u2t (uo[:,:,jeq].mean (dim=udims['t']), nperio=nperio)\n",
    "wz = nemo.w2t (wo[:,:,jeq].mean (dim=udims['t']), zdim='olevel', zcoord=ux.olevel)\n",
    "uw = (ux*ux + wz*wz)**0.5\n",
    "\n",
    "# Computes scale factors to get correct direction of vectors\n",
    "xmin,xmax=ax.get_xlim() ; ymin,ymax=ax.get_ylim()\n",
    "delta_Y = ax.get_window_extent().height\n",
    "delta_X = ax.get_window_extent().width\n",
    "\n",
    "fact_c = xr.where ( ux.olevel<depth0, 1./(1.+ratio), ratio/(1.+ratio))\n",
    "fact_d = xr.where ( ux.olevel<depth0, depth0, zmax-depth0 )\n",
    "\n",
    "fact_u = delta_X / np.abs(xmax-xmin) / ( Ra*np.pi/180. )\n",
    "fact_w = delta_Y * fact_c / fact_d\n",
    "\n",
    "#u,w = nemo.normalize_uv (ux, wz*fact_w/fact_u)\n",
    "u,w = ux, wz*fact_w/fact_u\n",
    "\n",
    "mver = ax.quiver (lon[jeq].values, depth2comp(depthT),\n",
    "                  u.values, w.values,\n",
    "                  uw.values, pivot='tail', scale=40,\n",
    "                  width=1E-3)\n",
    "ax.pcolor (lon[jeq], depthT, land[:,jeq], cmap='gray', vmin=0, vmax=2)\n",
    "\n",
    "ax.quiverkey (mver, X=0.1, Y=0.15, U=1, color='red', label='Velocity : 1 $m \\cdot s^{-1}$', labelpos='E')\n",
    "\n",
    "plt.colorbar (mver, ax=ax, label=\"$m \\cdot s^{-1}$\")"
   ]
  },
  {
   "cell_type": "markdown",
   "metadata": {
    "slideshow": {
     "slide_type": "slide"
    }
   },
   "source": [
    "## Surface currents with a projection"
   ]
  },
  {
   "cell_type": "markdown",
   "metadata": {
    "slideshow": {
     "slide_type": "subslide"
    }
   },
   "source": [
    "### Computes eastward and northward components of the current \n",
    "\n",
    "Velocities are averaged at the T point"
   ]
  },
  {
   "cell_type": "markdown",
   "metadata": {
    "slideshow": {
     "slide_type": "subslide"
    },
    "tags": []
   },
   "source": [
    "#### Compute sinus and cosinus of model's directions with respect to east"
   ]
  },
  {
   "cell_type": "code",
   "execution_count": null,
   "metadata": {
    "slideshow": {
     "slide_type": "subslide"
    },
    "tags": []
   },
   "outputs": [],
   "source": [
    "gsinT, gcosT = nemo.angle (lon, lat , nperio, cd_type='T') "
   ]
  },
  {
   "cell_type": "markdown",
   "metadata": {
    "slideshow": {
     "slide_type": "subslide"
    },
    "tags": []
   },
   "source": [
    "#### Rotate the velocities"
   ]
  },
  {
   "cell_type": "code",
   "execution_count": null,
   "metadata": {
    "slideshow": {
     "slide_type": "subslide"
    },
    "tags": []
   },
   "outputs": [],
   "source": [
    "importlib.reload (nemo)\n",
    "ue, vn = nemo.rot_uv2en (uo, vo, gsinT, gcosT, nperio=nperio) "
   ]
  },
  {
   "cell_type": "markdown",
   "metadata": {
    "slideshow": {
     "slide_type": "slide"
    }
   },
   "source": [
    "### Plot in Robinson projection"
   ]
  },
  {
   "cell_type": "code",
   "execution_count": null,
   "metadata": {
    "slideshow": {
     "slide_type": "subslide"
    },
    "tags": []
   },
   "outputs": [],
   "source": [
    "levels = np.arange (-2, 32.001, 2)\n",
    "palet  = mpl.cm.viridis\n",
    "colors = palet (np.linspace (0, 1, len(levels)+1))\n",
    "cmap, norm = mpl.colors.from_levels_and_colors (levels, colors, extend='both')\n",
    "\n",
    "ProjIn   = ccrs.PlateCarree (central_longitude=0)\n",
    "ProjPlot = ccrs.Robinson (central_longitude=180)\n",
    "fig, ax = plt.subplots ( figsize=(22,11), facecolor='white', subplot_kw={'projection':ProjPlot} )\n",
    "plt.tight_layout()\n",
    "\n",
    "ux = ue[{udims['z']:0}].mean(dim=udims['t'])\n",
    "vy = vn[{udims['z']:0}].mean(dim=udims['t'])\n",
    "uv = np.sqrt (ux*ux + vy*vy)\n",
    "tt = thetao[{udims['z']:10}].mean(dim=udims['t'])\n",
    "ux = ux.where(uv!=0, np.nan)\n",
    "\n",
    "mver = ax.quiver (lon.values, lat.values, \n",
    "                  ux.values, vy.values, tt.values, \n",
    "                  pivot='tip', scale=20, \n",
    "                  width=1E-3, transform=ProjIn,\n",
    "                 cmap=cmap, norm=norm)\n",
    "ax.quiverkey (mver, X=0.1, Y=-0.15, U=0.1, label='Velocity : 0.1 m $\\cdot$ s$^{-1}$', labelpos='E')\n",
    "\n",
    "ax.coastlines ()\n",
    "ax.add_feature (cartopy.feature.LAND)\n",
    "ax.gridlines (draw_labels=True, crs=ProjIn)\n",
    "\n",
    "plt.colorbar (mver, orientation='horizontal', ax=fig.axes, label='°C', shrink=0.4)"
   ]
  },
  {
   "cell_type": "markdown",
   "metadata": {
    "slideshow": {
     "slide_type": "slide"
    },
    "tags": []
   },
   "source": [
    "## Vectors in polar projection"
   ]
  },
  {
   "cell_type": "code",
   "execution_count": null,
   "metadata": {
    "slideshow": {
     "slide_type": "subslide"
    },
    "tags": []
   },
   "outputs": [],
   "source": [
    "importlib.reload(nemo)\n",
    "ProjIn = ccrs.PlateCarree (central_longitude=0)\n",
    "ProjPlot = ccrs.Orthographic (central_longitude=270, central_latitude=90)\n",
    "fig, ax = plt.subplots ( figsize=(16,14), facecolor='white', subplot_kw={'projection':ProjPlot} )\n",
    "plt.tight_layout()\n",
    "\n",
    "#levels  = mpl.ticker.MaxNLocator(nbins=19, steps=[1.,  1.5,  2.,  2.5,  5., 10. ]).tick_values(-2,14)\n",
    "levels = [27, 28, 29, 30, 31, 32, 33, 34, 35]\n",
    "palet   = mpl.cm.viridis\n",
    "colors  = palet (np.linspace(0, 1, len(levels)))\n",
    "cmap    = mpl.colors.ListedColormap (colors)\n",
    "norm    = mpl.colors.BoundaryNorm (levels, ncolors=cmap.N)\n",
    "\n",
    "ux = nemo.lbc ( ue[{udims['z']:0}].mean(dim=udims['t']), nperio, 'T' )\n",
    "vy = nemo.lbc ( vn[{udims['z']:0}].mean(dim=udims['t']), nperio, 'T' )\n",
    "uv = np.sqrt (ux*ux + vy*vy)\n",
    "ss = so[{udims['z']:0}].mean(dim=udims['t'])\n",
    "\n",
    "# Correct a Cartopy bug in Orthographic projection. See help(nemo.correct_uv) for details\n",
    "ux, vy = nemo.correct_uv (ux, vy, lat)\n",
    "    \n",
    "mver = ax.quiver (lon.values, lat.values, ux.values, vy.values, ss.values,\n",
    "                    pivot='tail', scale=1, width=2E-3, transform=ProjIn, norm=norm, cmap=cmap)\n",
    "\n",
    "ax.quiverkey (mver, X=0.15, Y=0.95, U=0.1, label='Velocity : 0.1 m$\\cdot$ s$^{-1}$', labelpos='E', \n",
    "              linewidth=3, color='red' )\n",
    "\n",
    "width = 0.3 ; ax.set_xlim (-Ra*width, Ra*width) ; ax.set_ylim (-Ra*width, Ra*width)\n",
    "\n",
    "ax.plot (lon_coast, lat_coast, linewidth=3, color='red' , transform=ProjIn)\n",
    "#ax.coastlines ()\n",
    "#ax.add_feature (cartopy.feature.LAND)\n",
    "ax.gridlines  (draw_labels=True, crs=ProjIn)\n",
    "\n",
    "plt.colorbar (mver, orientation='vertical', ax=fig.axes, label='PSS', shrink=0.75)"
   ]
  },
  {
   "cell_type": "markdown",
   "metadata": {
    "slideshow": {
     "slide_type": "slide"
    },
    "tags": []
   },
   "source": [
    "## Streamlines"
   ]
  },
  {
   "cell_type": "code",
   "execution_count": null,
   "metadata": {
    "slideshow": {
     "slide_type": "subslide"
    },
    "tags": []
   },
   "outputs": [],
   "source": [
    "ProjIn   = ccrs.PlateCarree (central_longitude=0)\n",
    "ProjPlot = ccrs.Robinson    (central_longitude=270)\n",
    "fig = plt.figure(figsize=(20,11), facecolor='white')\n",
    "ax = fig.add_subplot (1, 1, 1, projection=ProjPlot)\n",
    "\n",
    "ux = nemo.lbc_plot ( ue[{udims['z']:0}].mean(dim=udims['t']).values, nperio, 'T' )\n",
    "vy = nemo.lbc_plot ( vn[{udims['z']:0}].mean(dim=udims['t']).values, nperio, 'T' )\n",
    "uv = np.sqrt (ux*ux + vy*vy)\n",
    "tt = thetao[{udims['z']:0}].mean(dim=udims['t'])\n",
    "\n",
    "col = ax.streamplot ( lon.values, lat.values, ux, vy, transform=ProjIn, density=10, color=tt.values,\n",
    "                     linewidth=np.minimum (2,uv*20) ) \n",
    "\n",
    "ax.set_global ()\n",
    "ax.coastlines ()\n",
    "ax.gridlines  (draw_labels=True, crs=ProjIn)\n",
    "ax.add_feature (cartopy.feature.LAND)\n",
    "\n",
    "plt.colorbar (col.lines, orientation='horizontal', ax=fig.axes, label='°C', shrink=0.7)"
   ]
  },
  {
   "cell_type": "markdown",
   "metadata": {
    "slideshow": {
     "slide_type": "slide"
    },
    "tags": []
   },
   "source": [
    "## Streamlines in polar projection"
   ]
  },
  {
   "cell_type": "code",
   "execution_count": null,
   "metadata": {
    "slideshow": {
     "slide_type": "subslide"
    },
    "tags": []
   },
   "outputs": [],
   "source": [
    "np.seterr (divide='ignore', invalid='ignore')\n",
    "\n",
    "ProjIn   = ccrs.PlateCarree (central_longitude=0)\n",
    "ProjPlot = ccrs.Orthographic (central_longitude=270, central_latitude=90)\n",
    "\n",
    "fig, ax = plt.subplots ( figsize=(15,15), facecolor='white', subplot_kw={'projection':ProjPlot} )\n",
    "\n",
    "\n",
    "width = 0.5 ; ax.set_xlim (-Ra*width, Ra*width) ; ax.set_ylim (-Ra*width, Ra*width)\n",
    "\n",
    "ux = nemo.lbc ( ue[{udims['z']:0}].mean(dim=udims['t']).values, nperio, 'T' )\n",
    "vy = nemo.lbc ( vn[{udims['z']:0}].mean(dim=udims['t']).values, nperio, 'T' )\n",
    "uv = np.sqrt (ux*ux + vy*vy)\n",
    "tt = nemo.lbc (thetao[{udims['z']:0}].mean(dim=udims['t']),  nperio, 'T' )\n",
    "\n",
    "ux, vy = nemo.correct_uv (ux, vy, lat) # Correct a Cartopy bug in polar projection\n",
    "\n",
    "jmin=jeq+2 ; jmax = jpj-1\n",
    "imin, imax = 0, jpi\n",
    "print ( f'{jmin=}, {jmax=}, {imin=}, {imax=}' )\n",
    "\n",
    "col = ax.streamplot (lon.values[jmin:jmax,imin:imax], lat.values[jmin:jmax,imin:imax], \n",
    "                     ux.values [jmin:jmax,imin:imax], vy.values [jmin:jmax,imin:imax],\n",
    "                     transform=ProjIn, density=5,\n",
    "                     color    = tt.values[jmin:jmax,imin:imax],\n",
    "                     linewidth=np.minimum (2, uv[jmin:jmax,imin:imax]*50), arrowsize=2)\n",
    "\n",
    "ax.plot (lon_coast, lat_coast, linewidth=2, color='k' , transform=ProjIn)\n",
    "ax.gridlines (draw_labels=True, crs=ProjIn)\n",
    "\n",
    "plt.colorbar (col.lines, orientation='vertical', ax=fig.axes, label='°C', shrink=0.5)"
   ]
  },
  {
   "cell_type": "markdown",
   "metadata": {
    "tags": []
   },
   "source": [
    "## Barotropic stream function (bsf)\n",
    "\n",
    "Barotropic stream function is defined to within one constant. We can define a point `bsf0` where it is 0 (generally in Eurasia)."
   ]
  },
  {
   "cell_type": "code",
   "execution_count": null,
   "metadata": {
    "tags": []
   },
   "outputs": [],
   "source": [
    "bsf0 = nemo.findJI ( 50, 90, lat, lon, out='dict')"
   ]
  },
  {
   "cell_type": "code",
   "execution_count": null,
   "metadata": {
    "tags": []
   },
   "outputs": [],
   "source": [
    "bsf = nemo.bsf (uo, e2u*e3u, mask, nperio, bsf0=bsf0).mean(dim=udims['t'], keep_attrs=True)\n",
    "bsf = nemo.lbc_plot (bsf, nperio=nperio, cd_type='T')"
   ]
  },
  {
   "cell_type": "code",
   "execution_count": null,
   "metadata": {
    "tags": []
   },
   "outputs": [],
   "source": [
    "ProjIn   = ccrs.PlateCarree (central_longitude=0) \n",
    "ProjPlot = ccrs.Robinson (central_longitude=270) # Plotted projection\n",
    "\n",
    "# Creates the color palette\n",
    "cmap = mpl.cm.plasma\n",
    "norm = mpl.colors.Normalize( vmin=bsf.min(), vmax=bsf.max())\n",
    "levels = np.arange (-80, 200, 10)\n",
    "# Creates the figure\n",
    "fig, ax = plt.subplots ( figsize=(15,6), facecolor='white', subplot_kw={'projection':ProjPlot} )\n",
    "ax.set_global ()\n",
    "\n",
    "mmap = ax.contourf (lon, lat, bsf,\n",
    "                    levels = np.linspace (bsf.min(), bsf.max(), 100),\n",
    "                    cmap=cmap, norm=norm, transform=ProjIn)\n",
    "\n",
    "mlin = ax.contour  (lon, lat, bsf, transform=ProjIn, colors='k',\n",
    "                    levels=levels, linewidths=0.8)\n",
    "\n",
    "ax.clabel ( mlin, colors='w',\n",
    "        inline=True,  # Cut the line where the label will be placed.\n",
    "        fmt='{:3.0f}'.format, fontsize='small' )\n",
    "\n",
    "#ax.plot (lon_coast, lat_coast, linewidth=1, color='k' , transform=ProjIn)\n",
    "ax.gridlines (draw_labels=True, crs=ProjIn)\n",
    "\n",
    "fig.colorbar (mpl.cm.ScalarMappable (norm=norm, cmap=cmap), ax=ax, label='Sv' )"
   ]
  },
  {
   "cell_type": "markdown",
   "metadata": {},
   "source": [
    "## Meridional stream functions"
   ]
  },
  {
   "cell_type": "code",
   "execution_count": null,
   "metadata": {},
   "outputs": [],
   "source": [
    "lat1D, lon1D = nemo.latlon1D (lat, lon)"
   ]
  },
  {
   "cell_type": "markdown",
   "metadata": {},
   "source": [
    "### Compute meridional stream functions"
   ]
  },
  {
   "cell_type": "code",
   "execution_count": null,
   "metadata": {
    "tags": []
   },
   "outputs": [],
   "source": [
    "#%%time\n",
    "importlib.reload(nemo)\n",
    "zomsfglo = nemo.msf (vo,        e1v*e3v, lat1D, depthW).mean (dim=udims['t'], keep_attrs=True)\n",
    "zomsfatl = nemo.msf (vo, atlmsk*e1v*e3v, lat1D, depthW).mean (dim=udims['t'], keep_attrs=True)\n",
    "zomsfpac = nemo.msf (vo, pacmsk*e1v*e3v, lat1D, depthW).mean (dim=udims['t'], keep_attrs=True)\n",
    "zomsfind = nemo.msf (vo, indmsk*e1v*e3v, lat1D, depthW).mean (dim=udims['t'], keep_attrs=True)\n",
    "zomsfipc = nemo.msf (vo, ipcmsk*e1v*e3v, lat1D, depthW).mean (dim=udims['t'], keep_attrs=True)\n",
    "\n",
    "zomsfatl = zomsfatl.where (zomsfatl.lat > -30, np.nan)\n",
    "zomsfpac = zomsfpac.where (zomsfpac.lat > -30, np.nan)\n",
    "zomsfind = zomsfind.where (zomsfind.lat > -30, np.nan)\n",
    "zomsfipc = zomsfipc.where (zomsfipc.lat > -30, np.nan)\n",
    "\n",
    "try :\n",
    "    zomsfatl_nomed = nemo.msf (vo*atlmsk_nomed*e1v*e3v, lat1D, depthW)\n",
    "    zomsfatl_nomed = zomsfatl_nomed.where (zomsfatl_nomed.lat > -30, np.nan)\n",
    "except : pass"
   ]
  },
  {
   "cell_type": "markdown",
   "metadata": {},
   "source": [
    "### Plots meridional stream functions"
   ]
  },
  {
   "cell_type": "code",
   "execution_count": null,
   "metadata": {
    "editable": true,
    "slideshow": {
     "slide_type": ""
    },
    "tags": []
   },
   "outputs": [],
   "source": [
    "fig, axs = plt.subplots (6, 1, figsize=(15, 15), facecolor='white')\n",
    "axs = axs.ravel()\n",
    "fig.tight_layout()\n",
    "fig.subplots_adjust (hspace=0.3, wspace=0.2)\n",
    "\n",
    "def msfplot (zmsf, ax, levels = 'auto', land='auto') :\n",
    "    if levels == 'auto' :\n",
    "        levels = mpl.ticker.MaxNLocator (nbins=15).tick_values(zmsf.min(), zmsf.max())\n",
    "    palet  = mpl.cm.RdYlGn\n",
    "    colors = palet (np.linspace(0, 1, len(levels)+1))\n",
    "    cmap   = mpl.colors.ListedColormap(colors)\n",
    "    cmap.set_bad ('grey')\n",
    "    norm   = mpl.colors.BoundaryNorm (levels, ncolors=cmap.N+1, clip=False, extend='both')\n",
    "    \n",
    "    mmap = ax.contourf (lat1D, depthW, zmsf, levels=levels, cmap=cmap, norm=norm, extend='both')\n",
    "    mlin = ax.contour  (lat1D, depthW, zmsf, levels=levels, colors='k')\n",
    "    \n",
    "    ax.clabel (mlin, colors=['k'], manual=False,  # Automatic placement\n",
    "        inline=True,  # Cut the line where the label will be placed.\n",
    "        fmt='{:3.0f} '.format, fontsize='medium' )\n",
    "    \n",
    "    if np.all (land != None) : \n",
    "        if np.all (land == 'auto') :\n",
    "            zland = xr.where (np.isnan(zmsf), 1.0, np.nan)\n",
    "        else : zland = land\n",
    "        ax.pcolor (lat1D, depthT, zland, cmap='gray', vmin=0, vmax=2, shading='auto')\n",
    "    \n",
    "    ax.set_ylim (0, 4600)\n",
    "    ax.invert_yaxis ()\n",
    "    ax.set_xlabel ('Latitude') ; ax.set_ylabel ('Depth ($m$)')\n",
    "    ax.set_xticks( [-60, -30, 0,30, 60] )\n",
    "    ax.xaxis.set_major_formatter (cartopy.mpl.ticker.LatitudeFormatter(number_format='.0f'))\n",
    "    fig.colorbar (mmap, ax=ax)\n",
    "    ax.grid()\n",
    "\n",
    "zland = xr.where (np.isnan(zomsfglo), 1.0, np.nan)\n",
    "\n",
    "ax = axs[0]\n",
    "levels = [-50, -20, -10, -5, -2, -1, 0, 1, 2, 5, 10, 20, 50]\n",
    "msfplot (zomsfglo, ax, levels=levels, land=zland)\n",
    "ax.set_title ('Global')\n",
    "\n",
    "ax = axs[1]\n",
    "msfplot (zomsfatl, ax, levels='auto', land=zland)\n",
    "ax.set_title ('Atlantic')\n",
    "\n",
    "ax = axs[2]\n",
    "levels = [-20, -15, -10, -5, -2, -1, 0, 1, 2, 5, 10, 15, 20]\n",
    "msfplot (zomsfpac, ax, levels=levels, land=zland)\n",
    "ax.set_title ('Pacific')\n",
    "\n",
    "ax = axs[3]\n",
    "levels = [-20, -10, -5, -2, -1, 0, 1, 2, 5, 10, 20]\n",
    "msfplot (zomsfind, ax, levels=levels, land=zland)\n",
    "ax.set_title ('Indian')\n",
    "\n",
    "ax = axs[4]\n",
    "levels = [-20, -10, -5, -2, -1, 0, 1, 2, 5, 10, 20]\n",
    "msfplot (zomsfipc, ax, levels=levels, land=zland)\n",
    "ax.set_title ('Indian+Pacific')\n",
    "\n",
    "try : \n",
    "    ax = axs[5]\n",
    "    msfplot (zomsfatl_nomed, ax, levels='auto', land=zland)\n",
    "    axs.set_title ('Atlantic, no Med')\n",
    "except : \n",
    "    ax.set_visible (False)"
   ]
  },
  {
   "cell_type": "markdown",
   "metadata": {},
   "source": [
    "## Streamlines in vertical slices"
   ]
  },
  {
   "cell_type": "markdown",
   "metadata": {},
   "source": [
    "### Computes velocities at T points"
   ]
  },
  {
   "cell_type": "code",
   "execution_count": null,
   "metadata": {},
   "outputs": [],
   "source": [
    "importlib.reload(nemo)\n",
    "ut = nemo.u2t (uo, nperio=nperio)\n",
    "vt = nemo.v2t (vo, nperio=nperio)"
   ]
  },
  {
   "cell_type": "markdown",
   "metadata": {},
   "source": [
    "### Create a mask for plotting land masses"
   ]
  },
  {
   "cell_type": "code",
   "execution_count": null,
   "metadata": {},
   "outputs": [],
   "source": [
    "land = xr.where (np.isnan(thetao[{udims['t']:0}]), 1.0, np.nan)"
   ]
  },
  {
   "cell_type": "markdown",
   "metadata": {},
   "source": [
    "### Interpolate data on regular vertical levels"
   ]
  },
  {
   "cell_type": "markdown",
   "metadata": {},
   "source": [
    "#### Creates the levels"
   ]
  },
  {
   "cell_type": "code",
   "execution_count": null,
   "metadata": {},
   "outputs": [],
   "source": [
    "dz = thetao.coords[udims['z']][1] - thetao.coords[udims['z']][0]\n",
    "std_lev = np.arange (thetao.coords[udims['z']][0], 250+dz, dz*0.5)\n",
    "\n",
    "std_lev = xr.DataArray ( std_lev, dims=('std_lev',), coords=(std_lev,) )\n",
    "std_lev.attrs.update ( {'units':'m', 'long_name':'Vertical levels (regular)', 'axis':'Z', 'positive':'down'} )"
   ]
  },
  {
   "cell_type": "markdown",
   "metadata": {},
   "source": [
    "#### Interpolates\n",
    "Using xarray fonctionnality"
   ]
  },
  {
   "cell_type": "code",
   "execution_count": null,
   "metadata": {},
   "outputs": [],
   "source": [
    "ut_std = ut.interp ({udims['z']:std_lev}, method=\"linear\")\n",
    "vt_std = vt.interp ({udims['z']:std_lev}, method=\"linear\")\n",
    "wt_std = wo.interp ({udims['z']:std_lev}, method=\"linear\")"
   ]
  },
  {
   "cell_type": "markdown",
   "metadata": {},
   "source": [
    "## Equator slice of currents"
   ]
  },
  {
   "cell_type": "code",
   "execution_count": null,
   "metadata": {},
   "outputs": [],
   "source": [
    "fig = plt.figure (figsize=(16, 5))\n",
    "\n",
    "levels = np.arange (0, 1, 0.1)\n",
    "palet  = mpl.cm.viridis\n",
    "colors = palet (np.linspace (0, 1, len(levels)))\n",
    "cmap, norm = mpl.colors.from_levels_and_colors (levels, colors, extend='max')\n",
    "\n",
    "ax = fig.add_subplot (1, 1, 1)\n",
    "\n",
    "ux  = ut_std[{udims['y']:jeq}].mean (dim=udims['t']).roll(x=2, roll_coords=False)\n",
    "wz  = wt_std[{udims['y']:jeq}].mean (dim=udims['t'])\n",
    "uw  = np.sqrt (ux*ux+wz*wz)\n",
    "\n",
    "lo_min = lon[{udims['y']:jeq, udims['x']:0}].values \n",
    "dx = (lon[{udims['y']:jeq, udims['x']:1}]-lon[{udims['y']:jeq, udims['x']:0}]).values\n",
    "lox = np.arange(jpi)*dx + lo_min\n",
    "print (lox.shape, lo_min, dx)\n",
    "\n",
    "X, Y = np.meshgrid (lox, wz.std_lev)\n",
    "\n",
    "ax.set_ylim (250,0)\n",
    "ax.set_xlim (lox.min(), lox.max())\n",
    "\n",
    "# Size of plot = size of figure * position in the figure\n",
    "xmin,xmax=ax.get_xlim() ; ymin,ymax=ax.get_ylim()\n",
    "Delta_X = fig.get_figwidth ()*np.abs((ax.get_position().xmax-ax.get_position().xmin))\n",
    "Delta_Y = fig.get_figheight()*np.abs((ax.get_position().ymax-ax.get_position().ymin))\n",
    "\n",
    "fact_u  = Delta_X / np.abs(xmax-xmin) / ( Ra*np.pi/180. )\n",
    "fact_w  = Delta_Y / np.abs(ymax-ymin)\n",
    "\n",
    "mstream = ax.streamplot ( X, Y, ux*fact_u, -wz*fact_w, density=3, color=uw.values, \n",
    "               linewidth=np.clip (uw.values*5., 0.2, 3),\n",
    "               arrowsize=2, cmap=cmap, norm=norm) \n",
    "\n",
    "ax.pcolor (lon[{udims['y']:jeq}], depthT, land[{udims['y']:jeq}], cmap='gray', vmin=0, vmax=2, shading='auto')\n",
    "\n",
    "ax.set_xlabel (\"Longitude\") ; ax.set_ylabel (\"Depth ($m$)\")\n",
    "ax.grid (color='k', linestyle='-', linewidth=0.1)\n",
    "ax.xaxis.set_major_formatter (cartopy.mpl.ticker.LongitudeFormatter(number_format='.0f'))\n",
    "\n",
    "plt.colorbar (mstream.lines, orientation='vertical', ax=fig.axes, label='$m \\cdot s^{-1}$')"
   ]
  },
  {
   "cell_type": "markdown",
   "metadata": {},
   "source": [
    "## Slice of current accros the equator"
   ]
  },
  {
   "cell_type": "code",
   "execution_count": null,
   "metadata": {},
   "outputs": [],
   "source": [
    "fig = plt.figure ( figsize=(16,6) )\n",
    "plt.tight_layout () \n",
    "\n",
    "# Slice current\n",
    "xcoupe = 160 \n",
    "if jeq < 140 : xcoupe = 80\n",
    "ycoupe = slice (jeq//3, 5*jeq//3)\n",
    "\n",
    "levels = [0, 0.01, 0.02, 0.05, 0.1, 0.2]\n",
    "palet  = mpl.cm.viridis\n",
    "colors = palet (np.linspace (0, 1, len(levels)))\n",
    "cmap, norm = mpl.colors.from_levels_and_colors (levels, colors, extend='max')\n",
    "\n",
    "lat_s = lat[{udims['x']:xcoupe, udims['y']:ycoupe}]\n",
    "\n",
    "vy = vt_std[{udims['x']:xcoupe, udims['y']:ycoupe}].mean(dim=udims['t'])\n",
    "wz = wt_std[{udims['x']:xcoupe, udims['y']:ycoupe}].mean(dim=udims['t']) \n",
    "vw = np.sqrt (vy*vy+wz*wz)\n",
    "\n",
    "# On assigne la latitude\n",
    "vy = vy.assign_coords ({'y':lat_s})\n",
    "wz = wz.assign_coords ({'y':lat_s})\n",
    "\n",
    "# Latitude régulière\n",
    "lat_c = np.linspace ( lat_s.min(), lat_s.max(), 100)\n",
    "lat_c = xr.DataArray ( lat_c, dims=('lat',), coords=(lat_c,))\n",
    "\n",
    "vy_c = vy.interp({udims['y']:lat_c})\n",
    "wz_c = wz.interp({udims['y']:lat_c})\n",
    "vw_c = np.sqrt (vy_c*vy_c+wz_c*wz_c)\n",
    "\n",
    "ax = fig.add_subplot (1, 1, 1, adjustable='box')\n",
    "ax.set_ylim (200,  0)\n",
    "ax.set_xlim (-40, 40)\n",
    "\n",
    "# Facteur de ratio horizontal/vertical\n",
    "xmin,xmax=ax.get_xlim() ; ymin,ymax=ax.get_ylim()\n",
    "delta_Y = fig.get_figheight()*np.abs((ax.get_position().ymax-ax.get_position().ymin))\n",
    "delta_X = fig.get_figwidth ()*np.abs((ax.get_position().xmax-ax.get_position().xmin))\n",
    "fact_v  = delta_X / np.abs(xmax-xmin) / ( Ra*np.pi/180. )\n",
    "fact_w  = delta_Y / np.abs(ymax-ymin)\n",
    "\n",
    "X, Y = np.meshgrid(lat_c.values, vy_c.coords[udims['z']].values)\n",
    "\n",
    "mstream = ax.streamplot (X, Y, vy_c.values*fact_v, -wz_c.values*fact_w, density=4,\n",
    "              color=vw_c.values, \n",
    "              linewidth=np.clip (vw_c.values*30., 0.2, 4),\n",
    "              arrowsize=2, cmap=cmap, norm=norm)\n",
    "\n",
    "ax.pcolor (lat[{udims['x']:xcoupe, udims['y']:ycoupe}].values, depthT.values, land[{udims['x']:xcoupe, udims['y']:ycoupe}], \n",
    "           cmap='gray', vmin=0, vmax=2)\n",
    "\n",
    "ax.set_xlabel (\"Latitude\") ; ax.set_ylabel (\"Depth ($m$)\")\n",
    "ax.grid (color='k', linestyle='-', linewidth=0.1)\n",
    "ax.xaxis.set_major_formatter(cartopy.mpl.ticker.LatitudeFormatter (number_format='.0f'))\n",
    "\n",
    "plt.colorbar (mstream.lines, orientation='vertical', ax=fig.axes, label='$m \\cdot s^{-1}$')"
   ]
  },
  {
   "cell_type": "markdown",
   "metadata": {},
   "source": [
    "## Using 1d lon and lat for simplified and faster plots"
   ]
  },
  {
   "cell_type": "code",
   "execution_count": null,
   "metadata": {},
   "outputs": [],
   "source": [
    "levels = mpl.ticker.MaxNLocator (nbins=17).tick_values (-2, 32)\n",
    "palet  = mpl.cm.viridis\n",
    "colors = palet (np.linspace (0, 1, len(levels)+1))\n",
    "cmap   = mpl.colors.ListedColormap(colors)\n",
    "cmap.set_bad ('grey')\n",
    "norm   = mpl.colors.BoundaryNorm (levels, ncolors=cmap.N+1, clip=False, extend='both')\n",
    "\n",
    "# Creates the figure\n",
    "fig = plt.figure (figsize=(12,6), facecolor='white')\n",
    "# Creates the viewport\n",
    "ax = fig.add_subplot (1, 1, 1)\n",
    "\n",
    "# Select data. \n",
    "tt = thetao[{udims['t']:0, udims['z']:0}]\n",
    "\n",
    "# Color filing\n",
    "mmap = ax.contourf (lon1D, lat1D, tt, cmap=cmap, norm=norm, levels=levels )\n",
    "\n",
    "# Contour lines\n",
    "mlin = ax.contour (lon1D, lat1D, tt, colors='k', levels=levels, linewidths=0.25)\n",
    "\n",
    "# Add labels to contour lines\n",
    "ax.clabel (mlin, colors=['k'], manual=False,  # Automatic placement\n",
    "        inline=True,  # Cut the line where the label will be placed.\n",
    "        fmt='{:3.1f} '.format, fontsize='xx-small' )\n",
    "\n",
    "ax.set_xlabel ('Longitude')\n",
    "ax.xaxis.set_major_formatter (cartopy.mpl.ticker.LongitudeFormatter(number_format='.0f'))\n",
    "\n",
    "ax.set_ylabel ('Latitude')\n",
    "ax.yaxis.set_major_formatter (cartopy.mpl.ticker.LatitudeFormatter(number_format='.0f'))\n",
    "\n",
    "# Color bar\n",
    "plt.colorbar (mmap, orientation='vertical', shrink=0.75, ax=fig.axes, label=\"°C\")"
   ]
  },
  {
   "cell_type": "code",
   "execution_count": null,
   "metadata": {},
   "outputs": [],
   "source": [
    "levels = mpl.ticker.MaxNLocator (nbins=17).tick_values (-2, 32)\n",
    "palet  = mpl.cm.viridis\n",
    "colors = palet (np.linspace (0, 1, len(levels)+1))\n",
    "cmap   = mpl.colors.ListedColormap(colors)\n",
    "cmap.set_bad ('grey')\n",
    "norm   = mpl.colors.BoundaryNorm (levels, ncolors=cmap.N+1, clip=False, extend='both')\n",
    "\n",
    "# Creates the figure\n",
    "fig = plt.figure (figsize=(12,6), facecolor='white')\n",
    "# Creates the viewport\n",
    "ax = fig.add_subplot (1, 1, 1)\n",
    "\n",
    "# Select data. \n",
    "tt = thetao[{udims['t']:0, udims['y']:jeq}]\n",
    "\n",
    "# Color filing\n",
    "mmap = ax.contourf (lon1D, depthT, tt, cmap=cmap, norm=norm, levels=levels )\n",
    "ax.invert_yaxis()\n",
    "\n",
    "# Contour lines\n",
    "mlin = ax.contour (lon1D, depthT, tt, colors='k', levels=levels, linewidths=0.25)\n",
    "\n",
    "# Add labels to contour lines\n",
    "ax.clabel (mlin, colors=['k'], manual=False,  # Automatic placement\n",
    "        inline=True,  # Cut the line where the label will be placed.\n",
    "        fmt='{:3.1f} '.format, fontsize='xx-small' )\n",
    "\n",
    "ax.set_xlabel ('Longitude')\n",
    "ax.xaxis.set_major_formatter (cartopy.mpl.ticker.LongitudeFormatter(number_format='.0f'))\n",
    "ax.set_ylabel (\"Depth (m)\")\n",
    "ax.grid (color='k', linestyle='-', linewidth=0.1)\n",
    "\n",
    "# Color bar\n",
    "plt.colorbar (mmap, orientation='vertical', shrink=0.75, ax=fig.axes, label=\"°C\")"
   ]
  },
  {
   "cell_type": "code",
   "execution_count": null,
   "metadata": {},
   "outputs": [],
   "source": [
    "levels = mpl.ticker.MaxNLocator (nbins=35).tick_values (-2, 32)\n",
    "palet  = mpl.cm.viridis\n",
    "colors = palet (np.linspace (0, 1, len(levels)+1))\n",
    "cmap   = mpl.colors.ListedColormap(colors)\n",
    "cmap.set_bad ('grey')\n",
    "norm   = mpl.colors.BoundaryNorm (levels, ncolors=cmap.N+1, clip=False, extend='both')\n",
    "\n",
    "# Creates the figure\n",
    "fig = plt.figure (figsize=(12,6), facecolor='white')\n",
    "# Creates the viewport\n",
    "ax = fig.add_subplot (1, 1, 1)\n",
    "\n",
    "# Select data. \n",
    "tt = thetao[{udims['t']:0}].mean(dim=(udims['x']))\n",
    "\n",
    "# Color filing\n",
    "mmap = ax.contourf (lat1D, depthT, tt, cmap=cmap, norm=norm, levels=levels )\n",
    "ax.invert_yaxis()\n",
    "\n",
    "# Contour lines\n",
    "mlin = ax.contour (lat1D, depthT, tt, colors='k', levels=levels, linewidths=0.25)\n",
    "\n",
    "# Add labels to contour lines\n",
    "ax.clabel (mlin, colors=['k'], manual=False,  # Automatic placement\n",
    "        inline=True,  # Cut the line where the label will be placed.\n",
    "        fmt='{:3.1f} '.format, fontsize='xx-small' )\n",
    "\n",
    "ax.set_xlabel ('Latitude')\n",
    "ax.xaxis.set_major_formatter (cartopy.mpl.ticker.LatitudeFormatter(number_format='.0f'))\n",
    "ax.set_ylabel (\"Depth (m)\")\n",
    "ax.grid (color='k', linestyle='-', linewidth=0.1)\n",
    "\n",
    "# Color bar\n",
    "plt.colorbar (mmap, orientation='vertical', shrink=0.75, ax=fig.axes, label=\"°C\")"
   ]
  },
  {
   "cell_type": "markdown",
   "metadata": {
    "slideshow": {
     "slide_type": "slide"
    },
    "tags": []
   },
   "source": [
    "# To do\n",
    "\n",
    "## Streamlines in vertical sections. \n",
    "The present solution uses an interpolation of the data on a regular grid, as Matplotlib `streamplot` requires a regular grid. Or to understand the use of [transformations](https://matplotlib.org/stable/tutorials/advanced/transforms_tutorial.html) in Matplotlib.\n"
   ]
  },
  {
   "cell_type": "markdown",
   "metadata": {
    "slideshow": {
     "slide_type": "slide"
    }
   },
   "source": [
    "# That's all folks !"
   ]
  },
  {
   "cell_type": "code",
   "execution_count": null,
   "metadata": {},
   "outputs": [],
   "source": [
    "import requests\n",
    "from IPython.display import Image\n",
    "\n",
    "Bunny = GetLogo (\"https://substackcdn.com/image/fetch/w_1456,c_limit,f_webp,q_auto:good,fl_progressive:steep/https%3A%2F%2Fbucketeer-e05bbc84-baa3-437e-9518-adb32be77984.s3.amazonaws.com%2Fpublic%2Fimages%2F2f95d3fe-13e7-4220-84b1-9c12d760f233_950x535.jpeg\"\n",
    ", 'Bugs_Bunny.jpeg')\n",
    "\n",
    "Image (filename='Bugs_Bunny.jpeg', width=800)"
   ]
  },
  {
   "cell_type": "code",
   "execution_count": null,
   "metadata": {},
   "outputs": [],
   "source": []
  }
 ],
 "metadata": {
  "celltoolbar": "Format de la Cellule Texte Brut",
  "kernelspec": {
   "display_name": "Python 3.10 (FULL)",
   "language": "python",
   "name": "full"
  },
  "language_info": {
   "codemirror_mode": {
    "name": "ipython",
    "version": 3
   },
   "file_extension": ".py",
   "mimetype": "text/x-python",
   "name": "python",
   "nbconvert_exporter": "python",
   "pygments_lexer": "ipython3",
   "version": "3.10.12"
  },
  "toc-autonumbering": true,
  "toc-showtags": false
 },
 "nbformat": 4,
 "nbformat_minor": 4
}
